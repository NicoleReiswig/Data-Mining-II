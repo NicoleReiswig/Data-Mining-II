{
 "cells": [
  {
   "cell_type": "code",
   "execution_count": 1,
   "id": "78383102-f450-4810-8479-eaab73b6b910",
   "metadata": {
    "tags": []
   },
   "outputs": [],
   "source": [
    "#Data and numerical manipulations\n",
    "import pandas as pd\n",
    "import numpy as np\n",
    "import csv\n",
    "\n",
    "#Data Visualization\n",
    "import matplotlib.pyplot as plt\n",
    "import seaborn as sns\n",
    "\n",
    "#Data Acquisition and pre-processing\n",
    "from sklearn import datasets\n",
    "\n",
    "#Import PCA function from pca library\n",
    "from sklearn.decomposition import PCA\n",
    "from sklearn.preprocessing import RobustScaler\n",
    "\n",
    "#Ignore warnings\n",
    "import warnings\n",
    "warnings.filterwarnings('ignore')"
   ]
  },
  {
   "cell_type": "code",
   "execution_count": 2,
   "id": "c421c77b-6711-4f1a-a696-daeaa20531c2",
   "metadata": {
    "tags": []
   },
   "outputs": [
    {
     "data": {
      "text/plain": [
       "Index(['customer_id', 'lat', 'lng', 'population', 'children', 'age', 'income',\n",
       "       'marital', 'churn', 'gender', 'tenure', 'monthly_charge',\n",
       "       'bandwidth_gp_year', 'outage_sec_week', 'email', 'contacts',\n",
       "       'yearly_equip_faiure', 'techie', 'port_modem', 'tablet', 'job_id',\n",
       "       'payment_id', 'contract_id', 'location_id'],\n",
       "      dtype='object')"
      ]
     },
     "execution_count": 2,
     "metadata": {},
     "output_type": "execute_result"
    }
   ],
   "source": [
    "DF = pd.read_csv(\"customer.csv\")\n",
    "DF.columns"
   ]
  },
  {
   "cell_type": "code",
   "execution_count": 3,
   "id": "c9fb4ea3-71ad-48f5-a334-e3d42b707cc5",
   "metadata": {
    "tags": []
   },
   "outputs": [
    {
     "data": {
      "text/plain": [
       "Index(['lat', 'lng', 'population', 'children', 'age', 'income', 'tenure',\n",
       "       'monthly_charge', 'bandwidth_gp_year', 'outage_sec_week', 'email',\n",
       "       'contacts', 'yearly_equip_faiure', 'job_id', 'payment_id',\n",
       "       'contract_id', 'location_id'],\n",
       "      dtype='object')"
      ]
     },
     "execution_count": 3,
     "metadata": {},
     "output_type": "execute_result"
    }
   ],
   "source": [
    "#Select numerical variables of interest\n",
    "my_data = DF.select_dtypes(exclude = 'object')\n",
    "my_data.columns"
   ]
  },
  {
   "cell_type": "code",
   "execution_count": 4,
   "id": "9235be57-7146-4004-8fc1-00490a83b66d",
   "metadata": {
    "tags": []
   },
   "outputs": [
    {
     "data": {
      "text/plain": [
       "(10000, 17)"
      ]
     },
     "execution_count": 4,
     "metadata": {},
     "output_type": "execute_result"
    }
   ],
   "source": [
    "my_data.shape"
   ]
  },
  {
   "cell_type": "code",
   "execution_count": 5,
   "id": "b18275db-046b-4f5b-aedd-b5f60db6bbd2",
   "metadata": {
    "tags": []
   },
   "outputs": [
    {
     "data": {
      "text/plain": [
       "Index(['lat', 'lng', 'population', 'children', 'age', 'income', 'tenure',\n",
       "       'monthly_charge', 'bandwidth_gp_year', 'outage_sec_week', 'email',\n",
       "       'contacts', 'yearly_equip_faiure', 'job_id', 'payment_id',\n",
       "       'contract_id', 'location_id'],\n",
       "      dtype='object')"
      ]
     },
     "execution_count": 5,
     "metadata": {},
     "output_type": "execute_result"
    }
   ],
   "source": [
    "my_data = DF.select_dtypes('number')\n",
    "my_data.columns"
   ]
  },
  {
   "cell_type": "code",
   "execution_count": 6,
   "id": "a8b92498-f506-4397-9fc5-a34f2db28d74",
   "metadata": {
    "tags": []
   },
   "outputs": [
    {
     "data": {
      "text/plain": [
       "(10000, 17)"
      ]
     },
     "execution_count": 6,
     "metadata": {},
     "output_type": "execute_result"
    }
   ],
   "source": [
    "my_data.shape"
   ]
  },
  {
   "cell_type": "code",
   "execution_count": 7,
   "id": "cbf91b2a-495c-4fd1-808b-957625130640",
   "metadata": {
    "tags": []
   },
   "outputs": [
    {
     "data": {
      "text/plain": [
       "Index(['population', 'children', 'age', 'income', 'tenure', 'monthly_charge',\n",
       "       'bandwidth_gp_year', 'outage_sec_week', 'email', 'contacts',\n",
       "       'yearly_equip_faiure'],\n",
       "      dtype='object')"
      ]
     },
     "execution_count": 7,
     "metadata": {},
     "output_type": "execute_result"
    }
   ],
   "source": [
    "#Select continuous variables of interest for pca\n",
    "cv = my_data.drop(['lat', 'lng', 'job_id', 'payment_id', 'contract_id', 'location_id'], axis=1)\n",
    "cv.columns"
   ]
  },
  {
   "cell_type": "code",
   "execution_count": 8,
   "id": "7f806f99-fae6-4bbb-bac5-73dcf5a83939",
   "metadata": {
    "tags": []
   },
   "outputs": [
    {
     "data": {
      "text/plain": [
       "(10000, 11)"
      ]
     },
     "execution_count": 8,
     "metadata": {},
     "output_type": "execute_result"
    }
   ],
   "source": [
    "cv.shape"
   ]
  },
  {
   "cell_type": "code",
   "execution_count": 9,
   "id": "433d6098-01d1-46cc-8997-a8753baa1d18",
   "metadata": {
    "tags": []
   },
   "outputs": [
    {
     "data": {
      "text/plain": [
       "0       0\n",
       "1       0\n",
       "2       0\n",
       "3       0\n",
       "4       0\n",
       "       ..\n",
       "9995    0\n",
       "9996    0\n",
       "9997    0\n",
       "9998    0\n",
       "9999    0\n",
       "Length: 10000, dtype: int64"
      ]
     },
     "execution_count": 9,
     "metadata": {},
     "output_type": "execute_result"
    }
   ],
   "source": [
    "#Handle missing values\n",
    "cv.isnull().sum().sum()\n",
    "#Handle null values in each column\n",
    "cv.isna().sum()\n",
    "#Handle null values in each row\n",
    "cv.isna().sum(axis=1)"
   ]
  },
  {
   "cell_type": "code",
   "execution_count": 10,
   "id": "627bb6ef-f121-4f70-acac-067b8c7ab371",
   "metadata": {
    "tags": []
   },
   "outputs": [
    {
     "data": {
      "text/html": [
       "<div>\n",
       "<style scoped>\n",
       "    .dataframe tbody tr th:only-of-type {\n",
       "        vertical-align: middle;\n",
       "    }\n",
       "\n",
       "    .dataframe tbody tr th {\n",
       "        vertical-align: top;\n",
       "    }\n",
       "\n",
       "    .dataframe thead th {\n",
       "        text-align: right;\n",
       "    }\n",
       "</style>\n",
       "<table border=\"1\" class=\"dataframe\">\n",
       "  <thead>\n",
       "    <tr style=\"text-align: right;\">\n",
       "      <th></th>\n",
       "      <th>population</th>\n",
       "      <th>children</th>\n",
       "      <th>age</th>\n",
       "      <th>income</th>\n",
       "      <th>tenure</th>\n",
       "      <th>monthly_charge</th>\n",
       "      <th>bandwidth_gp_year</th>\n",
       "      <th>outage_sec_week</th>\n",
       "      <th>email</th>\n",
       "      <th>contacts</th>\n",
       "      <th>yearly_equip_faiure</th>\n",
       "    </tr>\n",
       "  </thead>\n",
       "  <tbody>\n",
       "    <tr>\n",
       "      <th>0</th>\n",
       "      <td>38</td>\n",
       "      <td>0</td>\n",
       "      <td>68</td>\n",
       "      <td>28561.99</td>\n",
       "      <td>6.795513</td>\n",
       "      <td>172.455519</td>\n",
       "      <td>904.536110</td>\n",
       "      <td>7.978323</td>\n",
       "      <td>10</td>\n",
       "      <td>0</td>\n",
       "      <td>1</td>\n",
       "    </tr>\n",
       "    <tr>\n",
       "      <th>1</th>\n",
       "      <td>10446</td>\n",
       "      <td>1</td>\n",
       "      <td>27</td>\n",
       "      <td>21704.77</td>\n",
       "      <td>1.156681</td>\n",
       "      <td>242.632554</td>\n",
       "      <td>800.982766</td>\n",
       "      <td>11.699080</td>\n",
       "      <td>12</td>\n",
       "      <td>0</td>\n",
       "      <td>1</td>\n",
       "    </tr>\n",
       "    <tr>\n",
       "      <th>2</th>\n",
       "      <td>3735</td>\n",
       "      <td>4</td>\n",
       "      <td>50</td>\n",
       "      <td>9609.57</td>\n",
       "      <td>15.754144</td>\n",
       "      <td>159.947583</td>\n",
       "      <td>2054.706961</td>\n",
       "      <td>10.752800</td>\n",
       "      <td>9</td>\n",
       "      <td>0</td>\n",
       "      <td>1</td>\n",
       "    </tr>\n",
       "    <tr>\n",
       "      <th>3</th>\n",
       "      <td>13863</td>\n",
       "      <td>1</td>\n",
       "      <td>48</td>\n",
       "      <td>18925.23</td>\n",
       "      <td>17.087227</td>\n",
       "      <td>119.956840</td>\n",
       "      <td>2164.579412</td>\n",
       "      <td>14.913540</td>\n",
       "      <td>15</td>\n",
       "      <td>2</td>\n",
       "      <td>0</td>\n",
       "    </tr>\n",
       "    <tr>\n",
       "      <th>4</th>\n",
       "      <td>11352</td>\n",
       "      <td>0</td>\n",
       "      <td>83</td>\n",
       "      <td>40074.19</td>\n",
       "      <td>1.670972</td>\n",
       "      <td>149.948316</td>\n",
       "      <td>271.493436</td>\n",
       "      <td>8.147417</td>\n",
       "      <td>16</td>\n",
       "      <td>2</td>\n",
       "      <td>1</td>\n",
       "    </tr>\n",
       "  </tbody>\n",
       "</table>\n",
       "</div>"
      ],
      "text/plain": [
       "   population  children  age    income     tenure  monthly_charge  \\\n",
       "0          38         0   68  28561.99   6.795513      172.455519   \n",
       "1       10446         1   27  21704.77   1.156681      242.632554   \n",
       "2        3735         4   50   9609.57  15.754144      159.947583   \n",
       "3       13863         1   48  18925.23  17.087227      119.956840   \n",
       "4       11352         0   83  40074.19   1.670972      149.948316   \n",
       "\n",
       "   bandwidth_gp_year  outage_sec_week  email  contacts  yearly_equip_faiure  \n",
       "0         904.536110         7.978323     10         0                    1  \n",
       "1         800.982766        11.699080     12         0                    1  \n",
       "2        2054.706961        10.752800      9         0                    1  \n",
       "3        2164.579412        14.913540     15         2                    0  \n",
       "4         271.493436         8.147417     16         2                    1  "
      ]
     },
     "execution_count": 10,
     "metadata": {},
     "output_type": "execute_result"
    }
   ],
   "source": [
    "import scipy.stats as stats \n",
    "cv.head()"
   ]
  },
  {
   "cell_type": "code",
   "execution_count": 11,
   "id": "9cd66a8b-cd9e-4367-ad53-2d1a5de47cbf",
   "metadata": {
    "tags": []
   },
   "outputs": [
    {
     "data": {
      "text/html": [
       "<div>\n",
       "<style scoped>\n",
       "    .dataframe tbody tr th:only-of-type {\n",
       "        vertical-align: middle;\n",
       "    }\n",
       "\n",
       "    .dataframe tbody tr th {\n",
       "        vertical-align: top;\n",
       "    }\n",
       "\n",
       "    .dataframe thead th {\n",
       "        text-align: right;\n",
       "    }\n",
       "</style>\n",
       "<table border=\"1\" class=\"dataframe\">\n",
       "  <thead>\n",
       "    <tr style=\"text-align: right;\">\n",
       "      <th></th>\n",
       "      <th>population</th>\n",
       "      <th>zscore_population</th>\n",
       "    </tr>\n",
       "  </thead>\n",
       "  <tbody>\n",
       "    <tr>\n",
       "      <th>0</th>\n",
       "      <td>38</td>\n",
       "      <td>-0.673405</td>\n",
       "    </tr>\n",
       "    <tr>\n",
       "      <th>1</th>\n",
       "      <td>10446</td>\n",
       "      <td>0.047772</td>\n",
       "    </tr>\n",
       "    <tr>\n",
       "      <th>2</th>\n",
       "      <td>3735</td>\n",
       "      <td>-0.417238</td>\n",
       "    </tr>\n",
       "    <tr>\n",
       "      <th>3</th>\n",
       "      <td>13863</td>\n",
       "      <td>0.284537</td>\n",
       "    </tr>\n",
       "    <tr>\n",
       "      <th>4</th>\n",
       "      <td>11352</td>\n",
       "      <td>0.110549</td>\n",
       "    </tr>\n",
       "  </tbody>\n",
       "</table>\n",
       "</div>"
      ],
      "text/plain": [
       "   population  zscore_population\n",
       "0          38          -0.673405\n",
       "1       10446           0.047772\n",
       "2        3735          -0.417238\n",
       "3       13863           0.284537\n",
       "4       11352           0.110549"
      ]
     },
     "execution_count": 11,
     "metadata": {},
     "output_type": "execute_result"
    }
   ],
   "source": [
    "#Zscore calculation\n",
    "cv['zscore_population']=stats.zscore(cv.iloc[::,0])\n",
    "cv[['population', 'zscore_population']].head()"
   ]
  },
  {
   "cell_type": "code",
   "execution_count": 12,
   "id": "e66292e6-ce75-41f8-8e5c-7545307d672b",
   "metadata": {
    "tags": []
   },
   "outputs": [
    {
     "data": {
      "text/plain": [
       "(array([7.243e+03, 1.178e+03, 7.340e+02, 4.610e+02, 2.090e+02, 1.050e+02,\n",
       "        3.500e+01, 2.400e+01, 8.000e+00, 3.000e+00]),\n",
       " array([     0.,  11185.,  22370.,  33555.,  44740.,  55925.,  67110.,\n",
       "         78295.,  89480., 100665., 111850.]),\n",
       " <BarContainer object of 10 artists>)"
      ]
     },
     "execution_count": 12,
     "metadata": {},
     "output_type": "execute_result"
    },
    {
     "data": {
      "image/png": "[encoded data removed]",
      "text/plain": [
       "<Figure size 640x480 with 1 Axes>"
      ]
     },
     "metadata": {},
     "output_type": "display_data"
    }
   ],
   "source": [
    "#Visualizations Histogram\n",
    "from pandas import DataFrame\n",
    "histplt, ex1 = plt.subplots()\n",
    "ex1.hist(cv.iloc[::,0])"
   ]
  },
  {
   "cell_type": "code",
   "execution_count": 13,
   "id": "709bc7b5-ded1-4871-8af8-c7edb5b0347e",
   "metadata": {
    "tags": []
   },
   "outputs": [
    {
     "data": {
      "text/plain": [
       "{'whiskers': [<matplotlib.lines.Line2D at 0x257a44ef350>,\n",
       "  <matplotlib.lines.Line2D at 0x257a4990b90>],\n",
       " 'caps': [<matplotlib.lines.Line2D at 0x257a4991810>,\n",
       "  <matplotlib.lines.Line2D at 0x257a4992310>],\n",
       " 'boxes': [<matplotlib.lines.Line2D at 0x257a491fa50>],\n",
       " 'medians': [<matplotlib.lines.Line2D at 0x257a4992e90>],\n",
       " 'fliers': [<matplotlib.lines.Line2D at 0x257a4991510>],\n",
       " 'means': []}"
      ]
     },
     "execution_count": 13,
     "metadata": {},
     "output_type": "execute_result"
    },
    {
     "data": {
      "image/png": "[encoded data removed]",
      "text/plain": [
       "<Figure size 640x480 with 1 Axes>"
      ]
     },
     "metadata": {},
     "output_type": "display_data"
    }
   ],
   "source": [
    "#Visualizations boxplots\n",
    "boxplt, ex2 = plt.subplots()\n",
    "ex2.boxplot(cv.iloc[::,0])"
   ]
  },
  {
   "cell_type": "code",
   "execution_count": 14,
   "id": "9ada42a9-cdd2-4699-b569-e72da9f23808",
   "metadata": {
    "tags": []
   },
   "outputs": [],
   "source": [
    "#Correlation heatmap\n",
    "corr = cv.corr()"
   ]
  },
  {
   "cell_type": "code",
   "execution_count": 15,
   "id": "17f96d85-b4de-4100-bb58-ffec48e0a934",
   "metadata": {
    "tags": []
   },
   "outputs": [
    {
     "data": {
      "image/png": "[encoded data removed]",
      "text/plain": [
       "<Figure size 1600x600 with 2 Axes>"
      ]
     },
     "metadata": {},
     "output_type": "display_data"
    }
   ],
   "source": [
    "from sklearn import preprocessing\n",
    "ax = plt.subplots(figsize=(16,6))\n",
    "sns.heatmap(corr, cmap='seismic', linewidths=5, annot=True, fmt='.3f')\n",
    "plt.show()"
   ]
  },
  {
   "cell_type": "code",
   "execution_count": 16,
   "id": "d42bf966-1606-4821-bbaa-6f24f7d56e85",
   "metadata": {
    "tags": []
   },
   "outputs": [
    {
     "data": {
      "text/plain": [
       "array([[-0.23109413, -0.33333333,  0.41666667, ..., -0.5       ,\n",
       "         1.        , -0.23109413],\n",
       "       [ 0.60623492,  0.        , -0.72222222, ..., -0.5       ,\n",
       "         1.        ,  0.60623492],\n",
       "       [ 0.06633146,  1.        , -0.08333333, ..., -0.5       ,\n",
       "         1.        ,  0.06633146],\n",
       "       ...,\n",
       "       [-0.20148833,  0.        , -0.13888889, ..., -0.5       ,\n",
       "         0.        , -0.20148833],\n",
       "       [ 2.62787611,  0.        , -0.38888889, ...,  0.        ,\n",
       "         0.        ,  2.62787611],\n",
       "       [ 0.74975865,  0.        , -0.69444444, ...,  0.        ,\n",
       "         0.        ,  0.74975865]])"
      ]
     },
     "execution_count": 16,
     "metadata": {},
     "output_type": "execute_result"
    }
   ],
   "source": [
    "#Data normalization\n",
    "robust = RobustScaler()\n",
    "sd = robust.fit_transform(cv)\n",
    "sd"
   ]
  },
  {
   "cell_type": "code",
   "execution_count": 17,
   "id": "8889083b-fbde-4f8f-9df7-bed7d453d514",
   "metadata": {
    "tags": []
   },
   "outputs": [],
   "source": [
    "cv_normalized=(cv-cv.mean())/cv.std()"
   ]
  },
  {
   "cell_type": "code",
   "execution_count": 29,
   "id": "48696892-5c63-4f60-8a5b-1887713c5990",
   "metadata": {
    "tags": []
   },
   "outputs": [
    {
     "data": {
      "text/html": [
       "<div>\n",
       "<style scoped>\n",
       "    .dataframe tbody tr th:only-of-type {\n",
       "        vertical-align: middle;\n",
       "    }\n",
       "\n",
       "    .dataframe tbody tr th {\n",
       "        vertical-align: top;\n",
       "    }\n",
       "\n",
       "    .dataframe thead th {\n",
       "        text-align: right;\n",
       "    }\n",
       "</style>\n",
       "<table border=\"1\" class=\"dataframe\">\n",
       "  <thead>\n",
       "    <tr style=\"text-align: right;\">\n",
       "      <th></th>\n",
       "      <th>population</th>\n",
       "      <th>children</th>\n",
       "      <th>age</th>\n",
       "      <th>income</th>\n",
       "      <th>tenure</th>\n",
       "      <th>monthly_charge</th>\n",
       "      <th>bandwidth_gp_year</th>\n",
       "      <th>outage_sec_week</th>\n",
       "      <th>email</th>\n",
       "      <th>contacts</th>\n",
       "      <th>yearly_equip_faiure</th>\n",
       "      <th>zscore_population</th>\n",
       "    </tr>\n",
       "  </thead>\n",
       "  <tbody>\n",
       "    <tr>\n",
       "      <th>0</th>\n",
       "      <td>-0.673371</td>\n",
       "      <td>-0.972289</td>\n",
       "      <td>0.720889</td>\n",
       "      <td>-0.398758</td>\n",
       "      <td>-1.048694</td>\n",
       "      <td>-0.003942</td>\n",
       "      <td>-1.138430</td>\n",
       "      <td>-0.679520</td>\n",
       "      <td>-0.666248</td>\n",
       "      <td>-1.005801</td>\n",
       "      <td>0.946611</td>\n",
       "      <td>-0.673371</td>\n",
       "    </tr>\n",
       "    <tr>\n",
       "      <th>1</th>\n",
       "      <td>0.047769</td>\n",
       "      <td>-0.506567</td>\n",
       "      <td>-1.259894</td>\n",
       "      <td>-0.641922</td>\n",
       "      <td>-1.261938</td>\n",
       "      <td>1.630244</td>\n",
       "      <td>-1.185817</td>\n",
       "      <td>0.570184</td>\n",
       "      <td>-0.005288</td>\n",
       "      <td>-1.005801</td>\n",
       "      <td>0.946611</td>\n",
       "      <td>0.047769</td>\n",
       "    </tr>\n",
       "    <tr>\n",
       "      <th>2</th>\n",
       "      <td>-0.417217</td>\n",
       "      <td>0.890602</td>\n",
       "      <td>-0.148723</td>\n",
       "      <td>-1.070831</td>\n",
       "      <td>-0.709904</td>\n",
       "      <td>-0.295210</td>\n",
       "      <td>-0.612107</td>\n",
       "      <td>0.252354</td>\n",
       "      <td>-0.996729</td>\n",
       "      <td>-1.005801</td>\n",
       "      <td>0.946611</td>\n",
       "      <td>-0.417217</td>\n",
       "    </tr>\n",
       "    <tr>\n",
       "      <th>3</th>\n",
       "      <td>0.284523</td>\n",
       "      <td>-0.506567</td>\n",
       "      <td>-0.245347</td>\n",
       "      <td>-0.740488</td>\n",
       "      <td>-0.659491</td>\n",
       "      <td>-1.226460</td>\n",
       "      <td>-0.561829</td>\n",
       "      <td>1.649837</td>\n",
       "      <td>0.986153</td>\n",
       "      <td>1.017537</td>\n",
       "      <td>-0.625832</td>\n",
       "      <td>0.284523</td>\n",
       "    </tr>\n",
       "    <tr>\n",
       "      <th>4</th>\n",
       "      <td>0.110543</td>\n",
       "      <td>-0.972289</td>\n",
       "      <td>1.445566</td>\n",
       "      <td>0.009477</td>\n",
       "      <td>-1.242489</td>\n",
       "      <td>-0.528059</td>\n",
       "      <td>-1.428113</td>\n",
       "      <td>-0.622726</td>\n",
       "      <td>1.316634</td>\n",
       "      <td>1.017537</td>\n",
       "      <td>0.946611</td>\n",
       "      <td>0.110543</td>\n",
       "    </tr>\n",
       "    <tr>\n",
       "      <th>...</th>\n",
       "      <td>...</td>\n",
       "      <td>...</td>\n",
       "      <td>...</td>\n",
       "      <td>...</td>\n",
       "      <td>...</td>\n",
       "      <td>...</td>\n",
       "      <td>...</td>\n",
       "      <td>...</td>\n",
       "      <td>...</td>\n",
       "      <td>...</td>\n",
       "      <td>...</td>\n",
       "      <td>...</td>\n",
       "    </tr>\n",
       "    <tr>\n",
       "      <th>9995</th>\n",
       "      <td>-0.631660</td>\n",
       "      <td>0.424879</td>\n",
       "      <td>-1.453141</td>\n",
       "      <td>0.564428</td>\n",
       "      <td>1.273337</td>\n",
       "      <td>-0.294469</td>\n",
       "      <td>1.427227</td>\n",
       "      <td>-0.196664</td>\n",
       "      <td>-0.005288</td>\n",
       "      <td>1.017537</td>\n",
       "      <td>-0.625832</td>\n",
       "      <td>-0.631660</td>\n",
       "    </tr>\n",
       "    <tr>\n",
       "      <th>9996</th>\n",
       "      <td>4.670744</td>\n",
       "      <td>0.890602</td>\n",
       "      <td>-0.245347</td>\n",
       "      <td>-0.201333</td>\n",
       "      <td>1.002690</td>\n",
       "      <td>0.811685</td>\n",
       "      <td>1.054142</td>\n",
       "      <td>-1.095256</td>\n",
       "      <td>0.986153</td>\n",
       "      <td>1.017537</td>\n",
       "      <td>-0.625832</td>\n",
       "      <td>4.670744</td>\n",
       "    </tr>\n",
       "    <tr>\n",
       "      <th>9997</th>\n",
       "      <td>-0.647873</td>\n",
       "      <td>-0.506567</td>\n",
       "      <td>-0.245347</td>\n",
       "      <td>0.219026</td>\n",
       "      <td>0.487489</td>\n",
       "      <td>-0.061726</td>\n",
       "      <td>0.350966</td>\n",
       "      <td>-1.145515</td>\n",
       "      <td>-0.666248</td>\n",
       "      <td>-1.005801</td>\n",
       "      <td>-0.625832</td>\n",
       "      <td>-0.647873</td>\n",
       "    </tr>\n",
       "    <tr>\n",
       "      <th>9998</th>\n",
       "      <td>1.788885</td>\n",
       "      <td>-0.506567</td>\n",
       "      <td>-0.680153</td>\n",
       "      <td>-0.820547</td>\n",
       "      <td>1.382949</td>\n",
       "      <td>1.862911</td>\n",
       "      <td>1.407643</td>\n",
       "      <td>0.695408</td>\n",
       "      <td>0.655673</td>\n",
       "      <td>0.005868</td>\n",
       "      <td>-0.625832</td>\n",
       "      <td>1.788885</td>\n",
       "    </tr>\n",
       "    <tr>\n",
       "      <th>9999</th>\n",
       "      <td>0.171377</td>\n",
       "      <td>-0.506567</td>\n",
       "      <td>-1.211582</td>\n",
       "      <td>-1.091706</td>\n",
       "      <td>1.090066</td>\n",
       "      <td>1.044619</td>\n",
       "      <td>1.128106</td>\n",
       "      <td>0.588873</td>\n",
       "      <td>1.647114</td>\n",
       "      <td>0.005868</td>\n",
       "      <td>-0.625832</td>\n",
       "      <td>0.171377</td>\n",
       "    </tr>\n",
       "  </tbody>\n",
       "</table>\n",
       "<p>10000 rows × 12 columns</p>\n",
       "</div>"
      ],
      "text/plain": [
       "      population  children       age    income    tenure  monthly_charge  \\\n",
       "0      -0.673371 -0.972289  0.720889 -0.398758 -1.048694       -0.003942   \n",
       "1       0.047769 -0.506567 -1.259894 -0.641922 -1.261938        1.630244   \n",
       "2      -0.417217  0.890602 -0.148723 -1.070831 -0.709904       -0.295210   \n",
       "3       0.284523 -0.506567 -0.245347 -0.740488 -0.659491       -1.226460   \n",
       "4       0.110543 -0.972289  1.445566  0.009477 -1.242489       -0.528059   \n",
       "...          ...       ...       ...       ...       ...             ...   \n",
       "9995   -0.631660  0.424879 -1.453141  0.564428  1.273337       -0.294469   \n",
       "9996    4.670744  0.890602 -0.245347 -0.201333  1.002690        0.811685   \n",
       "9997   -0.647873 -0.506567 -0.245347  0.219026  0.487489       -0.061726   \n",
       "9998    1.788885 -0.506567 -0.680153 -0.820547  1.382949        1.862911   \n",
       "9999    0.171377 -0.506567 -1.211582 -1.091706  1.090066        1.044619   \n",
       "\n",
       "      bandwidth_gp_year  outage_sec_week     email  contacts  \\\n",
       "0             -1.138430        -0.679520 -0.666248 -1.005801   \n",
       "1             -1.185817         0.570184 -0.005288 -1.005801   \n",
       "2             -0.612107         0.252354 -0.996729 -1.005801   \n",
       "3             -0.561829         1.649837  0.986153  1.017537   \n",
       "4             -1.428113        -0.622726  1.316634  1.017537   \n",
       "...                 ...              ...       ...       ...   \n",
       "9995           1.427227        -0.196664 -0.005288  1.017537   \n",
       "9996           1.054142        -1.095256  0.986153  1.017537   \n",
       "9997           0.350966        -1.145515 -0.666248 -1.005801   \n",
       "9998           1.407643         0.695408  0.655673  0.005868   \n",
       "9999           1.128106         0.588873  1.647114  0.005868   \n",
       "\n",
       "      yearly_equip_faiure  zscore_population  \n",
       "0                0.946611          -0.673371  \n",
       "1                0.946611           0.047769  \n",
       "2                0.946611          -0.417217  \n",
       "3               -0.625832           0.284523  \n",
       "4                0.946611           0.110543  \n",
       "...                   ...                ...  \n",
       "9995            -0.625832          -0.631660  \n",
       "9996            -0.625832           4.670744  \n",
       "9997            -0.625832          -0.647873  \n",
       "9998            -0.625832           1.788885  \n",
       "9999            -0.625832           0.171377  \n",
       "\n",
       "[10000 rows x 12 columns]"
      ]
     },
     "execution_count": 29,
     "metadata": {},
     "output_type": "execute_result"
    }
   ],
   "source": [
    "cv_normalized"
   ]
  },
  {
   "cell_type": "code",
   "execution_count": 28,
   "id": "4d86fd82-e2b1-48f7-a070-63b9d1c453b1",
   "metadata": {
    "tags": []
   },
   "outputs": [],
   "source": [
    "cv_normalized.to_csv('d212PCAnormalized.csv', index=False)"
   ]
  },
  {
   "cell_type": "code",
   "execution_count": 21,
   "id": "aa5cf073-c881-4c35-af8a-e31e25184d61",
   "metadata": {
    "tags": []
   },
   "outputs": [],
   "source": [
    "#Create PCA \n",
    "pca = PCA(n_components=sd.shape[1])\n",
    "pca.fit(cv_normalized)\n",
    "cv_pca = pd.DataFrame(pca.transform(cv_normalized),     \n",
    "     columns=['PC1','PC2','PC3','PC4','PC5','PC6','PC7','PC8','PC9', 'PC10', 'PC11', 'PC12'])"
   ]
  },
  {
   "cell_type": "code",
   "execution_count": 31,
   "id": "7efc4222-eadd-4223-ac69-27a7633f66d8",
   "metadata": {
    "tags": []
   },
   "outputs": [
    {
     "data": {
      "text/html": [
       "<div>\n",
       "<style scoped>\n",
       "    .dataframe tbody tr th:only-of-type {\n",
       "        vertical-align: middle;\n",
       "    }\n",
       "\n",
       "    .dataframe tbody tr th {\n",
       "        vertical-align: top;\n",
       "    }\n",
       "\n",
       "    .dataframe thead th {\n",
       "        text-align: right;\n",
       "    }\n",
       "</style>\n",
       "<table border=\"1\" class=\"dataframe\">\n",
       "  <thead>\n",
       "    <tr style=\"text-align: right;\">\n",
       "      <th></th>\n",
       "      <th>PC1</th>\n",
       "      <th>PC2</th>\n",
       "      <th>PC3</th>\n",
       "      <th>PC4</th>\n",
       "      <th>PC5</th>\n",
       "      <th>PC6</th>\n",
       "      <th>PC7</th>\n",
       "      <th>PC8</th>\n",
       "      <th>PC9</th>\n",
       "      <th>PC10</th>\n",
       "      <th>PC11</th>\n",
       "      <th>PC12</th>\n",
       "    </tr>\n",
       "  </thead>\n",
       "  <tbody>\n",
       "    <tr>\n",
       "      <th>0</th>\n",
       "      <td>0.045824</td>\n",
       "      <td>-1.813197</td>\n",
       "      <td>0.204097</td>\n",
       "      <td>1.445983</td>\n",
       "      <td>0.088640</td>\n",
       "      <td>-1.270830</td>\n",
       "      <td>0.667831</td>\n",
       "      <td>-0.107529</td>\n",
       "      <td>-0.447785</td>\n",
       "      <td>0.189944</td>\n",
       "      <td>-0.026619</td>\n",
       "      <td>-3.550531e-17</td>\n",
       "    </tr>\n",
       "    <tr>\n",
       "      <th>1</th>\n",
       "      <td>0.951145</td>\n",
       "      <td>-1.359970</td>\n",
       "      <td>-0.080720</td>\n",
       "      <td>-0.971754</td>\n",
       "      <td>1.248553</td>\n",
       "      <td>-1.124093</td>\n",
       "      <td>1.115775</td>\n",
       "      <td>-0.245594</td>\n",
       "      <td>-0.691142</td>\n",
       "      <td>1.355675</td>\n",
       "      <td>-0.038359</td>\n",
       "      <td>1.087012e-16</td>\n",
       "    </tr>\n",
       "    <tr>\n",
       "      <th>2</th>\n",
       "      <td>-0.018804</td>\n",
       "      <td>-1.096281</td>\n",
       "      <td>-1.060925</td>\n",
       "      <td>0.159836</td>\n",
       "      <td>0.902389</td>\n",
       "      <td>-1.615509</td>\n",
       "      <td>-0.081173</td>\n",
       "      <td>-0.380169</td>\n",
       "      <td>0.438268</td>\n",
       "      <td>-0.341159</td>\n",
       "      <td>0.060821</td>\n",
       "      <td>-3.517407e-16</td>\n",
       "    </tr>\n",
       "    <tr>\n",
       "      <th>3</th>\n",
       "      <td>0.908498</td>\n",
       "      <td>-0.525442</td>\n",
       "      <td>0.893912</td>\n",
       "      <td>-1.243151</td>\n",
       "      <td>-0.248094</td>\n",
       "      <td>0.093084</td>\n",
       "      <td>-1.978436</td>\n",
       "      <td>-0.180291</td>\n",
       "      <td>-0.770905</td>\n",
       "      <td>-0.573797</td>\n",
       "      <td>0.129998</td>\n",
       "      <td>3.265878e-16</td>\n",
       "    </tr>\n",
       "    <tr>\n",
       "      <th>4</th>\n",
       "      <td>1.245782</td>\n",
       "      <td>-1.487580</td>\n",
       "      <td>1.392854</td>\n",
       "      <td>1.161323</td>\n",
       "      <td>-0.684468</td>\n",
       "      <td>-0.107665</td>\n",
       "      <td>-0.886646</td>\n",
       "      <td>1.554832</td>\n",
       "      <td>-0.133338</td>\n",
       "      <td>0.464916</td>\n",
       "      <td>-0.056536</td>\n",
       "      <td>2.763802e-16</td>\n",
       "    </tr>\n",
       "    <tr>\n",
       "      <th>...</th>\n",
       "      <td>...</td>\n",
       "      <td>...</td>\n",
       "      <td>...</td>\n",
       "      <td>...</td>\n",
       "      <td>...</td>\n",
       "      <td>...</td>\n",
       "      <td>...</td>\n",
       "      <td>...</td>\n",
       "      <td>...</td>\n",
       "      <td>...</td>\n",
       "      <td>...</td>\n",
       "      <td>...</td>\n",
       "    </tr>\n",
       "    <tr>\n",
       "      <th>9995</th>\n",
       "      <td>-1.807190</td>\n",
       "      <td>1.073664</td>\n",
       "      <td>-0.640508</td>\n",
       "      <td>-0.640824</td>\n",
       "      <td>-0.245303</td>\n",
       "      <td>1.386724</td>\n",
       "      <td>-0.714290</td>\n",
       "      <td>-0.632323</td>\n",
       "      <td>0.252631</td>\n",
       "      <td>0.645215</td>\n",
       "      <td>0.081233</td>\n",
       "      <td>-4.426293e-16</td>\n",
       "    </tr>\n",
       "    <tr>\n",
       "      <th>9996</th>\n",
       "      <td>4.706432</td>\n",
       "      <td>4.874324</td>\n",
       "      <td>-0.017182</td>\n",
       "      <td>-0.725075</td>\n",
       "      <td>-0.883942</td>\n",
       "      <td>0.699180</td>\n",
       "      <td>0.200735</td>\n",
       "      <td>0.467775</td>\n",
       "      <td>1.454471</td>\n",
       "      <td>0.905045</td>\n",
       "      <td>-0.026344</td>\n",
       "      <td>2.047798e-15</td>\n",
       "    </tr>\n",
       "    <tr>\n",
       "      <th>9997</th>\n",
       "      <td>-1.105081</td>\n",
       "      <td>-0.043013</td>\n",
       "      <td>-0.567113</td>\n",
       "      <td>0.700926</td>\n",
       "      <td>-0.884395</td>\n",
       "      <td>-0.046230</td>\n",
       "      <td>1.018394</td>\n",
       "      <td>-0.876086</td>\n",
       "      <td>-0.296284</td>\n",
       "      <td>0.089582</td>\n",
       "      <td>-0.086942</td>\n",
       "      <td>-1.054413e-16</td>\n",
       "    </tr>\n",
       "    <tr>\n",
       "      <th>9998</th>\n",
       "      <td>1.013183</td>\n",
       "      <td>3.087222</td>\n",
       "      <td>1.022385</td>\n",
       "      <td>-1.774123</td>\n",
       "      <td>0.164523</td>\n",
       "      <td>-0.298145</td>\n",
       "      <td>0.915248</td>\n",
       "      <td>-0.324628</td>\n",
       "      <td>-0.153694</td>\n",
       "      <td>0.790353</td>\n",
       "      <td>-0.069396</td>\n",
       "      <td>8.458873e-16</td>\n",
       "    </tr>\n",
       "    <tr>\n",
       "      <th>9999</th>\n",
       "      <td>-0.617955</td>\n",
       "      <td>1.453909</td>\n",
       "      <td>0.663684</td>\n",
       "      <td>-2.218831</td>\n",
       "      <td>-0.620492</td>\n",
       "      <td>-0.456608</td>\n",
       "      <td>0.066734</td>\n",
       "      <td>0.033866</td>\n",
       "      <td>-0.581016</td>\n",
       "      <td>1.086934</td>\n",
       "      <td>-0.033821</td>\n",
       "      <td>1.671162e-16</td>\n",
       "    </tr>\n",
       "  </tbody>\n",
       "</table>\n",
       "<p>10000 rows × 12 columns</p>\n",
       "</div>"
      ],
      "text/plain": [
       "           PC1       PC2       PC3       PC4       PC5       PC6       PC7  \\\n",
       "0     0.045824 -1.813197  0.204097  1.445983  0.088640 -1.270830  0.667831   \n",
       "1     0.951145 -1.359970 -0.080720 -0.971754  1.248553 -1.124093  1.115775   \n",
       "2    -0.018804 -1.096281 -1.060925  0.159836  0.902389 -1.615509 -0.081173   \n",
       "3     0.908498 -0.525442  0.893912 -1.243151 -0.248094  0.093084 -1.978436   \n",
       "4     1.245782 -1.487580  1.392854  1.161323 -0.684468 -0.107665 -0.886646   \n",
       "...        ...       ...       ...       ...       ...       ...       ...   \n",
       "9995 -1.807190  1.073664 -0.640508 -0.640824 -0.245303  1.386724 -0.714290   \n",
       "9996  4.706432  4.874324 -0.017182 -0.725075 -0.883942  0.699180  0.200735   \n",
       "9997 -1.105081 -0.043013 -0.567113  0.700926 -0.884395 -0.046230  1.018394   \n",
       "9998  1.013183  3.087222  1.022385 -1.774123  0.164523 -0.298145  0.915248   \n",
       "9999 -0.617955  1.453909  0.663684 -2.218831 -0.620492 -0.456608  0.066734   \n",
       "\n",
       "           PC8       PC9      PC10      PC11          PC12  \n",
       "0    -0.107529 -0.447785  0.189944 -0.026619 -3.550531e-17  \n",
       "1    -0.245594 -0.691142  1.355675 -0.038359  1.087012e-16  \n",
       "2    -0.380169  0.438268 -0.341159  0.060821 -3.517407e-16  \n",
       "3    -0.180291 -0.770905 -0.573797  0.129998  3.265878e-16  \n",
       "4     1.554832 -0.133338  0.464916 -0.056536  2.763802e-16  \n",
       "...        ...       ...       ...       ...           ...  \n",
       "9995 -0.632323  0.252631  0.645215  0.081233 -4.426293e-16  \n",
       "9996  0.467775  1.454471  0.905045 -0.026344  2.047798e-15  \n",
       "9997 -0.876086 -0.296284  0.089582 -0.086942 -1.054413e-16  \n",
       "9998 -0.324628 -0.153694  0.790353 -0.069396  8.458873e-16  \n",
       "9999  0.033866 -0.581016  1.086934 -0.033821  1.671162e-16  \n",
       "\n",
       "[10000 rows x 12 columns]"
      ]
     },
     "execution_count": 31,
     "metadata": {},
     "output_type": "execute_result"
    }
   ],
   "source": [
    "cv_pca"
   ]
  },
  {
   "cell_type": "code",
   "execution_count": 37,
   "id": "2198d4c0-dac6-4460-8bd9-437e4f48f90f",
   "metadata": {
    "tags": []
   },
   "outputs": [
    {
     "data": {
      "text/plain": [
       "array([3.84667976e-01, 9.81174877e-02, 8.18187110e-02, 8.11435413e-02,\n",
       "       7.34568156e-02, 7.27400566e-02, 6.84869812e-02, 5.75806500e-02,\n",
       "       4.70276718e-02, 3.47664405e-02, 1.93668540e-04, 6.61297652e-32])"
      ]
     },
     "execution_count": 37,
     "metadata": {},
     "output_type": "execute_result"
    }
   ],
   "source": [
    "exp_var = pca.explained_variance_ratio_\n",
    "exp_var"
   ]
  },
  {
   "cell_type": "code",
   "execution_count": 39,
   "id": "0725b0b0-f4ba-4611-9b52-900342217f98",
   "metadata": {
    "tags": []
   },
   "outputs": [
    {
     "data": {
      "text/plain": [
       "array([ 1,  2,  3,  4,  5,  6,  7,  8,  9, 10, 11, 12])"
      ]
     },
     "execution_count": 39,
     "metadata": {},
     "output_type": "execute_result"
    }
   ],
   "source": [
    "pcomp = np.arange(pca.n_components_) + 1\n",
    "pcomp"
   ]
  },
  {
   "cell_type": "code",
   "execution_count": 40,
   "id": "4bd4808b-1c9f-4678-afc9-c263799dd647",
   "metadata": {
    "tags": []
   },
   "outputs": [
    {
     "data": {
      "text/plain": [
       "array([[-1.10699389e+00, -3.11061859e-01,  6.67832761e-01, ...,\n",
       "        -5.09458586e-01, -1.32665289e-02,  6.71696105e-14],\n",
       "       [ 7.79543400e-02, -5.76656487e-01, -1.99770637e-01, ...,\n",
       "        -4.70924288e-01, -1.89659529e-02, -1.22743562e-15],\n",
       "       [-6.89987790e-01, -8.33653893e-01,  6.59802142e-01, ...,\n",
       "        -4.64359656e-01,  3.03437692e-02,  1.04081281e-15],\n",
       "       ...,\n",
       "       [-1.07265957e+00,  2.32219313e-01,  7.83187066e-01, ...,\n",
       "        -4.87355144e-01, -4.33578132e-02,  1.46707892e-17],\n",
       "       [ 2.94316598e+00, -7.32299771e-01, -5.79405445e-01, ...,\n",
       "        -1.46865225e-02, -3.45221108e-02, -2.31528722e-16],\n",
       "       [ 2.96903073e-01, -1.00064123e+00, -1.23859115e+00, ...,\n",
       "         4.62274483e-03, -1.68299771e-02,  1.07823043e-16]])"
      ]
     },
     "execution_count": 40,
     "metadata": {},
     "output_type": "execute_result"
    }
   ],
   "source": [
    "pca_model = pca.fit_transform(sd)\n",
    "pca_model"
   ]
  },
  {
   "cell_type": "code",
   "execution_count": 41,
   "id": "c3406d53-8794-4a0a-8193-e608312d23bf",
   "metadata": {
    "tags": []
   },
   "outputs": [
    {
     "data": {
      "image/png": "[encoded data removed]",
      "text/plain": [
       "<Figure size 640x480 with 1 Axes>"
      ]
     },
     "metadata": {},
     "output_type": "display_data"
    }
   ],
   "source": [
    "#Scree plot\n",
    "plt.plot(pca.explained_variance_ratio_)\n",
    "plt.xlabel('number of components')\n",
    "plt.ylabel('explained variance')\n",
    "plt.show()"
   ]
  },
  {
   "cell_type": "code",
   "execution_count": 24,
   "id": "bb3eb31f-8808-4e9b-baf5-b8b3e5e6872a",
   "metadata": {},
   "outputs": [],
   "source": [
    "#Eigenvalues\n",
    "cov_matrix = np.dot(cv_normalized.T, cv_normalized) / cv.shape[0]\n",
    "eigenvalues = [np.dot(eigenvector.T, np.dot(cov_matrix, eigenvector)) for\n",
    "eigenvector in pca.components_]"
   ]
  },
  {
   "cell_type": "code",
   "execution_count": 25,
   "id": "2dfb51ea-d3ea-45fa-99d2-ac92f5b6f49f",
   "metadata": {
    "tags": []
   },
   "outputs": [
    {
     "data": {
      "image/png": "[encoded data removed]",
      "text/plain": [
       "<Figure size 640x480 with 1 Axes>"
      ]
     },
     "metadata": {},
     "output_type": "display_data"
    }
   ],
   "source": [
    "plt.plot(eigenvalues)\n",
    "plt.xlabel('number of components')\n",
    "plt.ylabel('eigenvalue')\n",
    "plt.show() "
   ]
  },
  {
   "cell_type": "code",
   "execution_count": 27,
   "id": "5c869d3d-e33b-4a13-a63a-962e32ed06f8",
   "metadata": {
    "tags": []
   },
   "outputs": [
    {
     "data": {
      "text/html": [
       "<div>\n",
       "<style scoped>\n",
       "    .dataframe tbody tr th:only-of-type {\n",
       "        vertical-align: middle;\n",
       "    }\n",
       "\n",
       "    .dataframe tbody tr th {\n",
       "        vertical-align: top;\n",
       "    }\n",
       "\n",
       "    .dataframe thead th {\n",
       "        text-align: right;\n",
       "    }\n",
       "</style>\n",
       "<table border=\"1\" class=\"dataframe\">\n",
       "  <thead>\n",
       "    <tr style=\"text-align: right;\">\n",
       "      <th></th>\n",
       "      <th>PC1</th>\n",
       "      <th>PC2</th>\n",
       "      <th>PC3</th>\n",
       "      <th>PC4</th>\n",
       "      <th>PC5</th>\n",
       "      <th>PC6</th>\n",
       "      <th>PC7</th>\n",
       "      <th>PC8</th>\n",
       "      <th>PC9</th>\n",
       "      <th>PC10</th>\n",
       "      <th>PC11</th>\n",
       "      <th>PC12</th>\n",
       "    </tr>\n",
       "  </thead>\n",
       "  <tbody>\n",
       "    <tr>\n",
       "      <th>population</th>\n",
       "      <td>0.707036</td>\n",
       "      <td>0.004762</td>\n",
       "      <td>0.007393</td>\n",
       "      <td>0.001265</td>\n",
       "      <td>0.002204</td>\n",
       "      <td>0.002245</td>\n",
       "      <td>0.001197</td>\n",
       "      <td>0.000932</td>\n",
       "      <td>-0.002948</td>\n",
       "      <td>-0.000702</td>\n",
       "      <td>-0.000074</td>\n",
       "      <td>-7.071068e-01</td>\n",
       "    </tr>\n",
       "    <tr>\n",
       "      <th>children</th>\n",
       "      <td>-0.003195</td>\n",
       "      <td>0.033575</td>\n",
       "      <td>-0.038000</td>\n",
       "      <td>0.001531</td>\n",
       "      <td>0.965092</td>\n",
       "      <td>0.099606</td>\n",
       "      <td>0.223601</td>\n",
       "      <td>-0.021189</td>\n",
       "      <td>0.069209</td>\n",
       "      <td>0.025143</td>\n",
       "      <td>-0.014988</td>\n",
       "      <td>3.330669e-16</td>\n",
       "    </tr>\n",
       "    <tr>\n",
       "      <th>age</th>\n",
       "      <td>0.004219</td>\n",
       "      <td>-0.006056</td>\n",
       "      <td>0.005100</td>\n",
       "      <td>-0.011095</td>\n",
       "      <td>-0.069103</td>\n",
       "      <td>0.015222</td>\n",
       "      <td>-0.003393</td>\n",
       "      <td>0.049037</td>\n",
       "      <td>0.994910</td>\n",
       "      <td>-0.046389</td>\n",
       "      <td>0.019363</td>\n",
       "      <td>2.602085e-18</td>\n",
       "    </tr>\n",
       "    <tr>\n",
       "      <th>income</th>\n",
       "      <td>-0.005906</td>\n",
       "      <td>0.996522</td>\n",
       "      <td>-0.066958</td>\n",
       "      <td>0.029733</td>\n",
       "      <td>-0.037695</td>\n",
       "      <td>-0.005470</td>\n",
       "      <td>0.001873</td>\n",
       "      <td>-0.007902</td>\n",
       "      <td>0.004542</td>\n",
       "      <td>-0.002071</td>\n",
       "      <td>-0.000562</td>\n",
       "      <td>1.994932e-17</td>\n",
       "    </tr>\n",
       "    <tr>\n",
       "      <th>tenure</th>\n",
       "      <td>-0.001344</td>\n",
       "      <td>0.006710</td>\n",
       "      <td>0.050369</td>\n",
       "      <td>0.061951</td>\n",
       "      <td>0.068311</td>\n",
       "      <td>0.437055</td>\n",
       "      <td>-0.537549</td>\n",
       "      <td>-0.043183</td>\n",
       "      <td>0.012462</td>\n",
       "      <td>-0.004846</td>\n",
       "      <td>-0.711964</td>\n",
       "      <td>1.415968e-16</td>\n",
       "    </tr>\n",
       "    <tr>\n",
       "      <th>monthly_charge</th>\n",
       "      <td>-0.002493</td>\n",
       "      <td>-0.013222</td>\n",
       "      <td>-0.052691</td>\n",
       "      <td>0.155668</td>\n",
       "      <td>-0.218965</td>\n",
       "      <td>0.733055</td>\n",
       "      <td>0.619893</td>\n",
       "      <td>0.040124</td>\n",
       "      <td>-0.023889</td>\n",
       "      <td>-0.003497</td>\n",
       "      <td>-0.032170</td>\n",
       "      <td>7.806256e-18</td>\n",
       "    </tr>\n",
       "    <tr>\n",
       "      <th>bandwidth_gp_year</th>\n",
       "      <td>-0.001521</td>\n",
       "      <td>0.007920</td>\n",
       "      <td>0.048034</td>\n",
       "      <td>0.070295</td>\n",
       "      <td>0.081805</td>\n",
       "      <td>0.479231</td>\n",
       "      <td>-0.512578</td>\n",
       "      <td>-0.043743</td>\n",
       "      <td>-0.014383</td>\n",
       "      <td>-0.001908</td>\n",
       "      <td>0.701050</td>\n",
       "      <td>-1.353084e-16</td>\n",
       "    </tr>\n",
       "    <tr>\n",
       "      <th>outage_sec_week</th>\n",
       "      <td>0.003207</td>\n",
       "      <td>-0.052294</td>\n",
       "      <td>-0.368570</td>\n",
       "      <td>0.911019</td>\n",
       "      <td>0.015994</td>\n",
       "      <td>-0.164024</td>\n",
       "      <td>-0.060457</td>\n",
       "      <td>-0.010111</td>\n",
       "      <td>0.014792</td>\n",
       "      <td>-0.017885</td>\n",
       "      <td>0.000183</td>\n",
       "      <td>3.035766e-18</td>\n",
       "    </tr>\n",
       "    <tr>\n",
       "      <th>email</th>\n",
       "      <td>0.010533</td>\n",
       "      <td>-0.050786</td>\n",
       "      <td>-0.921256</td>\n",
       "      <td>-0.367595</td>\n",
       "      <td>-0.021246</td>\n",
       "      <td>0.069295</td>\n",
       "      <td>-0.079480</td>\n",
       "      <td>0.043217</td>\n",
       "      <td>-0.004820</td>\n",
       "      <td>-0.003192</td>\n",
       "      <td>0.000165</td>\n",
       "      <td>5.204170e-18</td>\n",
       "    </tr>\n",
       "    <tr>\n",
       "      <th>contacts</th>\n",
       "      <td>0.001357</td>\n",
       "      <td>-0.000296</td>\n",
       "      <td>-0.008835</td>\n",
       "      <td>0.015320</td>\n",
       "      <td>-0.028142</td>\n",
       "      <td>0.000991</td>\n",
       "      <td>-0.007762</td>\n",
       "      <td>-0.009622</td>\n",
       "      <td>0.045255</td>\n",
       "      <td>0.998344</td>\n",
       "      <td>-0.000948</td>\n",
       "      <td>1.301043e-17</td>\n",
       "    </tr>\n",
       "    <tr>\n",
       "      <th>yearly_equip_faiure</th>\n",
       "      <td>-0.002085</td>\n",
       "      <td>0.011765</td>\n",
       "      <td>0.041007</td>\n",
       "      <td>0.025692</td>\n",
       "      <td>0.039866</td>\n",
       "      <td>0.007133</td>\n",
       "      <td>-0.063170</td>\n",
       "      <td>0.994802</td>\n",
       "      <td>-0.045857</td>\n",
       "      <td>0.012267</td>\n",
       "      <td>-0.000074</td>\n",
       "      <td>-7.372575e-18</td>\n",
       "    </tr>\n",
       "    <tr>\n",
       "      <th>zscore_population</th>\n",
       "      <td>0.707036</td>\n",
       "      <td>0.004762</td>\n",
       "      <td>0.007393</td>\n",
       "      <td>0.001265</td>\n",
       "      <td>0.002204</td>\n",
       "      <td>0.002245</td>\n",
       "      <td>0.001197</td>\n",
       "      <td>0.000932</td>\n",
       "      <td>-0.002948</td>\n",
       "      <td>-0.000702</td>\n",
       "      <td>-0.000074</td>\n",
       "      <td>7.071068e-01</td>\n",
       "    </tr>\n",
       "  </tbody>\n",
       "</table>\n",
       "</div>"
      ],
      "text/plain": [
       "                          PC1       PC2       PC3       PC4       PC5  \\\n",
       "population           0.707036  0.004762  0.007393  0.001265  0.002204   \n",
       "children            -0.003195  0.033575 -0.038000  0.001531  0.965092   \n",
       "age                  0.004219 -0.006056  0.005100 -0.011095 -0.069103   \n",
       "income              -0.005906  0.996522 -0.066958  0.029733 -0.037695   \n",
       "tenure              -0.001344  0.006710  0.050369  0.061951  0.068311   \n",
       "monthly_charge      -0.002493 -0.013222 -0.052691  0.155668 -0.218965   \n",
       "bandwidth_gp_year   -0.001521  0.007920  0.048034  0.070295  0.081805   \n",
       "outage_sec_week      0.003207 -0.052294 -0.368570  0.911019  0.015994   \n",
       "email                0.010533 -0.050786 -0.921256 -0.367595 -0.021246   \n",
       "contacts             0.001357 -0.000296 -0.008835  0.015320 -0.028142   \n",
       "yearly_equip_faiure -0.002085  0.011765  0.041007  0.025692  0.039866   \n",
       "zscore_population    0.707036  0.004762  0.007393  0.001265  0.002204   \n",
       "\n",
       "                          PC6       PC7       PC8       PC9      PC10  \\\n",
       "population           0.002245  0.001197  0.000932 -0.002948 -0.000702   \n",
       "children             0.099606  0.223601 -0.021189  0.069209  0.025143   \n",
       "age                  0.015222 -0.003393  0.049037  0.994910 -0.046389   \n",
       "income              -0.005470  0.001873 -0.007902  0.004542 -0.002071   \n",
       "tenure               0.437055 -0.537549 -0.043183  0.012462 -0.004846   \n",
       "monthly_charge       0.733055  0.619893  0.040124 -0.023889 -0.003497   \n",
       "bandwidth_gp_year    0.479231 -0.512578 -0.043743 -0.014383 -0.001908   \n",
       "outage_sec_week     -0.164024 -0.060457 -0.010111  0.014792 -0.017885   \n",
       "email                0.069295 -0.079480  0.043217 -0.004820 -0.003192   \n",
       "contacts             0.000991 -0.007762 -0.009622  0.045255  0.998344   \n",
       "yearly_equip_faiure  0.007133 -0.063170  0.994802 -0.045857  0.012267   \n",
       "zscore_population    0.002245  0.001197  0.000932 -0.002948 -0.000702   \n",
       "\n",
       "                         PC11          PC12  \n",
       "population          -0.000074 -7.071068e-01  \n",
       "children            -0.014988  3.330669e-16  \n",
       "age                  0.019363  2.602085e-18  \n",
       "income              -0.000562  1.994932e-17  \n",
       "tenure              -0.711964  1.415968e-16  \n",
       "monthly_charge      -0.032170  7.806256e-18  \n",
       "bandwidth_gp_year    0.701050 -1.353084e-16  \n",
       "outage_sec_week      0.000183  3.035766e-18  \n",
       "email                0.000165  5.204170e-18  \n",
       "contacts            -0.000948  1.301043e-17  \n",
       "yearly_equip_faiure -0.000074 -7.372575e-18  \n",
       "zscore_population   -0.000074  7.071068e-01  "
      ]
     },
     "execution_count": 27,
     "metadata": {},
     "output_type": "execute_result"
    }
   ],
   "source": [
    "#Loadings\n",
    "loadings = pd.DataFrame(pca.components_.T,\n",
    "     columns=['PC1','PC2','PC3','PC4','PC5','PC6','PC7','PC8','PC9', 'PC10', 'PC11', 'PC12'],\n",
    "     index=cv.columns)\n",
    "loadings"
   ]
  },
  {
   "cell_type": "code",
   "execution_count": 30,
   "id": "576dec9f-1e71-4131-a617-45d654a95b73",
   "metadata": {
    "tags": []
   },
   "outputs": [],
   "source": [
    "loadings.to_csv('d212PCAloadings.csv', index=False)"
   ]
  },
  {
   "cell_type": "code",
   "execution_count": 47,
   "id": "5afc7c35-b751-46e3-adc5-b787b79f6908",
   "metadata": {
    "tags": []
   },
   "outputs": [
    {
     "name": "stdout",
     "output_type": "stream",
     "text": [
      "For PC1, the contribution is 38.467%\n",
      "For PC2, the contribution is 9.812%\n",
      "For PC3, the contribution is 8.182%\n",
      "For PC4, the contribution is 8.114%\n",
      "For PC5, the contribution is 7.346%\n",
      "For PC6, the contribution is 7.274%\n",
      "For PC7, the contribution is 6.849%\n",
      "For PC8, the contribution is 5.758%\n",
      "For PC9, the contribution is 4.703%\n",
      "For PC10, the contribution is 3.477%\n",
      "For PC11, the contribution is 0.019%\n",
      "For PC12, the contribution is 0.0%\n"
     ]
    }
   ],
   "source": [
    "pc_contributions = list(pca.explained_variance_ratio_)\n",
    "pc_names = list(loadings.columns)\n",
    "for i in range(len(pc_names)):\n",
    "    print(f\"For {pc_names[i]}, the contribution is {round(pc_contributions[i] * 100, 3)}%\")"
   ]
  },
  {
   "cell_type": "code",
   "execution_count": null,
   "id": "a863a3aa-7723-4dda-acd6-e255826c3fc7",
   "metadata": {},
   "outputs": [],
   "source": []
  }
 ],
 "metadata": {
  "kernelspec": {
   "display_name": "Python 3 (ipykernel)",
   "language": "python",
   "name": "python3"
  },
  "language_info": {
   "codemirror_mode": {
    "name": "ipython",
    "version": 3
   },
   "file_extension": ".py",
   "mimetype": "text/x-python",
   "name": "python",
   "nbconvert_exporter": "python",
   "pygments_lexer": "ipython3",
   "version": "3.11.4"
  }
 },
 "nbformat": 4,
 "nbformat_minor": 5
}
