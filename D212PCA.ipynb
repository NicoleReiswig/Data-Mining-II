{
 "cells": [
  {
   "cell_type": "code",
   "execution_count": 1,
   "id": "78383102-f450-4810-8479-eaab73b6b910",
   "metadata": {
    "tags": []
   },
   "outputs": [],
   "source": [
    "#Data and numerical manipulations\n",
    "import pandas as pd\n",
    "import numpy as np\n",
    "import csv\n",
    "\n",
    "#Data Visualization\n",
    "import matplotlib.pyplot as plt\n",
    "import seaborn as sns\n",
    "\n",
    "#Data Acquisition and pre-processing\n",
    "from sklearn import datasets\n",
    "\n",
    "#Import PCA function from pca library\n",
    "from sklearn.decomposition import PCA\n",
    "from sklearn.preprocessing import RobustScaler\n",
    "\n",
    "#Ignore warnings\n",
    "import warnings\n",
    "warnings.filterwarnings('ignore')"
   ]
  },
  {
   "cell_type": "code",
   "execution_count": 2,
   "id": "c421c77b-6711-4f1a-a696-daeaa20531c2",
   "metadata": {
    "tags": []
   },
   "outputs": [
    {
     "data": {
      "text/plain": [
       "Index(['CaseOrder', 'Customer_id', 'Interaction', 'UID', 'City', 'State',\n",
       "       'County', 'Zip', 'Lat', 'Lng', 'Population', 'Area', 'TimeZone', 'Job',\n",
       "       'Children', 'Age', 'Income', 'Marital', 'Gender', 'Churn',\n",
       "       'Outage_sec_perweek', 'Email', 'Contacts', 'Yearly_equip_failure',\n",
       "       'Techie', 'Contract', 'Port_modem', 'Tablet', 'InternetService',\n",
       "       'Phone', 'Multiple', 'OnlineSecurity', 'OnlineBackup',\n",
       "       'DeviceProtection', 'TechSupport', 'StreamingTV', 'StreamingMovies',\n",
       "       'PaperlessBilling', 'PaymentMethod', 'Tenure', 'MonthlyCharge',\n",
       "       'Bandwidth_GB_Year', 'Item1', 'Item2', 'Item3', 'Item4', 'Item5',\n",
       "       'Item6', 'Item7', 'Item8'],\n",
       "      dtype='object')"
      ]
     },
     "execution_count": 2,
     "metadata": {},
     "output_type": "execute_result"
    }
   ],
   "source": [
    "DF = pd.read_csv(\"churn_clean.csv\")\n",
    "DF.columns"
   ]
  },
  {
   "cell_type": "code",
   "execution_count": 3,
   "id": "c9fb4ea3-71ad-48f5-a334-e3d42b707cc5",
   "metadata": {
    "tags": []
   },
   "outputs": [
    {
     "data": {
      "text/plain": [
       "Index(['CaseOrder', 'Zip', 'Lat', 'Lng', 'Population', 'Children', 'Age',\n",
       "       'Income', 'Outage_sec_perweek', 'Email', 'Contacts',\n",
       "       'Yearly_equip_failure', 'Tenure', 'MonthlyCharge', 'Bandwidth_GB_Year',\n",
       "       'Item1', 'Item2', 'Item3', 'Item4', 'Item5', 'Item6', 'Item7', 'Item8'],\n",
       "      dtype='object')"
      ]
     },
     "execution_count": 3,
     "metadata": {},
     "output_type": "execute_result"
    }
   ],
   "source": [
    "#Select numerical variables of interest\n",
    "my_data = DF.select_dtypes(exclude = 'object')\n",
    "my_data.columns"
   ]
  },
  {
   "cell_type": "code",
   "execution_count": 4,
   "id": "9235be57-7146-4004-8fc1-00490a83b66d",
   "metadata": {
    "tags": []
   },
   "outputs": [
    {
     "data": {
      "text/plain": [
       "(10000, 23)"
      ]
     },
     "execution_count": 4,
     "metadata": {},
     "output_type": "execute_result"
    }
   ],
   "source": [
    "my_data.shape"
   ]
  },
  {
   "cell_type": "code",
   "execution_count": 5,
   "id": "b18275db-046b-4f5b-aedd-b5f60db6bbd2",
   "metadata": {
    "tags": []
   },
   "outputs": [
    {
     "data": {
      "text/plain": [
       "Index(['CaseOrder', 'Zip', 'Lat', 'Lng', 'Population', 'Children', 'Age',\n",
       "       'Income', 'Outage_sec_perweek', 'Email', 'Contacts',\n",
       "       'Yearly_equip_failure', 'Tenure', 'MonthlyCharge', 'Bandwidth_GB_Year',\n",
       "       'Item1', 'Item2', 'Item3', 'Item4', 'Item5', 'Item6', 'Item7', 'Item8'],\n",
       "      dtype='object')"
      ]
     },
     "execution_count": 5,
     "metadata": {},
     "output_type": "execute_result"
    }
   ],
   "source": [
    "my_data = DF.select_dtypes('number')\n",
    "my_data.columns"
   ]
  },
  {
   "cell_type": "code",
   "execution_count": 6,
   "id": "a8b92498-f506-4397-9fc5-a34f2db28d74",
   "metadata": {
    "tags": []
   },
   "outputs": [
    {
     "data": {
      "text/plain": [
       "(10000, 23)"
      ]
     },
     "execution_count": 6,
     "metadata": {},
     "output_type": "execute_result"
    }
   ],
   "source": [
    "my_data.shape"
   ]
  },
  {
   "cell_type": "code",
   "execution_count": 7,
   "id": "cbf91b2a-495c-4fd1-808b-957625130640",
   "metadata": {
    "tags": []
   },
   "outputs": [
    {
     "data": {
      "text/plain": [
       "Index(['Population', 'Children', 'Age', 'Income', 'Outage_sec_perweek',\n",
       "       'Email', 'Contacts', 'Yearly_equip_failure', 'Tenure', 'MonthlyCharge',\n",
       "       'Bandwidth_GB_Year'],\n",
       "      dtype='object')"
      ]
     },
     "execution_count": 7,
     "metadata": {},
     "output_type": "execute_result"
    }
   ],
   "source": [
    "#Select continuous variables of interest for pca\n",
    "cv = my_data.drop(['Lat', 'Lng', 'Zip', 'CaseOrder', 'Item1', 'Item2', 'Item3', 'Item4', 'Item5', 'Item6', 'Item7', 'Item8'], axis=1)\n",
    "cv.columns"
   ]
  },
  {
   "cell_type": "code",
   "execution_count": 8,
   "id": "7f806f99-fae6-4bbb-bac5-73dcf5a83939",
   "metadata": {
    "tags": []
   },
   "outputs": [
    {
     "data": {
      "text/plain": [
       "(10000, 11)"
      ]
     },
     "execution_count": 8,
     "metadata": {},
     "output_type": "execute_result"
    }
   ],
   "source": [
    "cv.shape"
   ]
  },
  {
   "cell_type": "code",
   "execution_count": 9,
   "id": "433d6098-01d1-46cc-8997-a8753baa1d18",
   "metadata": {
    "tags": []
   },
   "outputs": [
    {
     "data": {
      "text/plain": [
       "0       0\n",
       "1       0\n",
       "2       0\n",
       "3       0\n",
       "4       0\n",
       "       ..\n",
       "9995    0\n",
       "9996    0\n",
       "9997    0\n",
       "9998    0\n",
       "9999    0\n",
       "Length: 10000, dtype: int64"
      ]
     },
     "execution_count": 9,
     "metadata": {},
     "output_type": "execute_result"
    }
   ],
   "source": [
    "#Handle missing values\n",
    "cv.isnull().sum().sum()\n",
    "#Handle null values in each column\n",
    "cv.isna().sum()\n",
    "#Handle null values in each row\n",
    "cv.isna().sum(axis=1)"
   ]
  },
  {
   "cell_type": "code",
   "execution_count": 10,
   "id": "627bb6ef-f121-4f70-acac-067b8c7ab371",
   "metadata": {
    "tags": []
   },
   "outputs": [
    {
     "data": {
      "text/html": [
       "<div>\n",
       "<style scoped>\n",
       "    .dataframe tbody tr th:only-of-type {\n",
       "        vertical-align: middle;\n",
       "    }\n",
       "\n",
       "    .dataframe tbody tr th {\n",
       "        vertical-align: top;\n",
       "    }\n",
       "\n",
       "    .dataframe thead th {\n",
       "        text-align: right;\n",
       "    }\n",
       "</style>\n",
       "<table border=\"1\" class=\"dataframe\">\n",
       "  <thead>\n",
       "    <tr style=\"text-align: right;\">\n",
       "      <th></th>\n",
       "      <th>Population</th>\n",
       "      <th>Children</th>\n",
       "      <th>Age</th>\n",
       "      <th>Income</th>\n",
       "      <th>Outage_sec_perweek</th>\n",
       "      <th>Email</th>\n",
       "      <th>Contacts</th>\n",
       "      <th>Yearly_equip_failure</th>\n",
       "      <th>Tenure</th>\n",
       "      <th>MonthlyCharge</th>\n",
       "      <th>Bandwidth_GB_Year</th>\n",
       "    </tr>\n",
       "  </thead>\n",
       "  <tbody>\n",
       "    <tr>\n",
       "      <th>0</th>\n",
       "      <td>38</td>\n",
       "      <td>0</td>\n",
       "      <td>68</td>\n",
       "      <td>28561.99</td>\n",
       "      <td>7.978323</td>\n",
       "      <td>10</td>\n",
       "      <td>0</td>\n",
       "      <td>1</td>\n",
       "      <td>6.795513</td>\n",
       "      <td>172.455519</td>\n",
       "      <td>904.536110</td>\n",
       "    </tr>\n",
       "    <tr>\n",
       "      <th>1</th>\n",
       "      <td>10446</td>\n",
       "      <td>1</td>\n",
       "      <td>27</td>\n",
       "      <td>21704.77</td>\n",
       "      <td>11.699080</td>\n",
       "      <td>12</td>\n",
       "      <td>0</td>\n",
       "      <td>1</td>\n",
       "      <td>1.156681</td>\n",
       "      <td>242.632554</td>\n",
       "      <td>800.982766</td>\n",
       "    </tr>\n",
       "    <tr>\n",
       "      <th>2</th>\n",
       "      <td>3735</td>\n",
       "      <td>4</td>\n",
       "      <td>50</td>\n",
       "      <td>9609.57</td>\n",
       "      <td>10.752800</td>\n",
       "      <td>9</td>\n",
       "      <td>0</td>\n",
       "      <td>1</td>\n",
       "      <td>15.754144</td>\n",
       "      <td>159.947583</td>\n",
       "      <td>2054.706961</td>\n",
       "    </tr>\n",
       "    <tr>\n",
       "      <th>3</th>\n",
       "      <td>13863</td>\n",
       "      <td>1</td>\n",
       "      <td>48</td>\n",
       "      <td>18925.23</td>\n",
       "      <td>14.913540</td>\n",
       "      <td>15</td>\n",
       "      <td>2</td>\n",
       "      <td>0</td>\n",
       "      <td>17.087227</td>\n",
       "      <td>119.956840</td>\n",
       "      <td>2164.579412</td>\n",
       "    </tr>\n",
       "    <tr>\n",
       "      <th>4</th>\n",
       "      <td>11352</td>\n",
       "      <td>0</td>\n",
       "      <td>83</td>\n",
       "      <td>40074.19</td>\n",
       "      <td>8.147417</td>\n",
       "      <td>16</td>\n",
       "      <td>2</td>\n",
       "      <td>1</td>\n",
       "      <td>1.670972</td>\n",
       "      <td>149.948316</td>\n",
       "      <td>271.493436</td>\n",
       "    </tr>\n",
       "  </tbody>\n",
       "</table>\n",
       "</div>"
      ],
      "text/plain": [
       "   Population  Children  Age    Income  Outage_sec_perweek  Email  Contacts  \\\n",
       "0          38         0   68  28561.99            7.978323     10         0   \n",
       "1       10446         1   27  21704.77           11.699080     12         0   \n",
       "2        3735         4   50   9609.57           10.752800      9         0   \n",
       "3       13863         1   48  18925.23           14.913540     15         2   \n",
       "4       11352         0   83  40074.19            8.147417     16         2   \n",
       "\n",
       "   Yearly_equip_failure     Tenure  MonthlyCharge  Bandwidth_GB_Year  \n",
       "0                     1   6.795513     172.455519         904.536110  \n",
       "1                     1   1.156681     242.632554         800.982766  \n",
       "2                     1  15.754144     159.947583        2054.706961  \n",
       "3                     0  17.087227     119.956840        2164.579412  \n",
       "4                     1   1.670972     149.948316         271.493436  "
      ]
     },
     "execution_count": 10,
     "metadata": {},
     "output_type": "execute_result"
    }
   ],
   "source": [
    "import scipy.stats as stats \n",
    "cv.head()"
   ]
  },
  {
   "cell_type": "code",
   "execution_count": 11,
   "id": "e66292e6-ce75-41f8-8e5c-7545307d672b",
   "metadata": {
    "tags": []
   },
   "outputs": [
    {
     "data": {
      "text/plain": [
       "(array([7.243e+03, 1.178e+03, 7.340e+02, 4.610e+02, 2.090e+02, 1.050e+02,\n",
       "        3.500e+01, 2.400e+01, 8.000e+00, 3.000e+00]),\n",
       " array([     0.,  11185.,  22370.,  33555.,  44740.,  55925.,  67110.,\n",
       "         78295.,  89480., 100665., 111850.]),\n",
       " <BarContainer object of 10 artists>)"
      ]
     },
     "execution_count": 11,
     "metadata": {},
     "output_type": "execute_result"
    },
    {
     "data": {
      "image/png": "[encoded data removed]",
      "text/plain": [
       "<Figure size 640x480 with 1 Axes>"
      ]
     },
     "metadata": {},
     "output_type": "display_data"
    }
   ],
   "source": [
    "#Visualizations Histogram\n",
    "from pandas import DataFrame\n",
    "histplt, ex1 = plt.subplots()\n",
    "ex1.hist(cv.iloc[::,0])"
   ]
  },
  {
   "cell_type": "code",
   "execution_count": 12,
   "id": "709bc7b5-ded1-4871-8af8-c7edb5b0347e",
   "metadata": {
    "tags": []
   },
   "outputs": [
    {
     "data": {
      "text/plain": [
       "{'whiskers': [<matplotlib.lines.Line2D at 0x1906683de50>,\n",
       "  <matplotlib.lines.Line2D at 0x1906688ea50>],\n",
       " 'caps': [<matplotlib.lines.Line2D at 0x1906688f6d0>,\n",
       "  <matplotlib.lines.Line2D at 0x190668a01d0>],\n",
       " 'boxes': [<matplotlib.lines.Line2D at 0x19066e5f890>],\n",
       " 'medians': [<matplotlib.lines.Line2D at 0x190668a0d50>],\n",
       " 'fliers': [<matplotlib.lines.Line2D at 0x1906683f550>],\n",
       " 'means': []}"
      ]
     },
     "execution_count": 12,
     "metadata": {},
     "output_type": "execute_result"
    },
    {
     "data": {
      "image/png": "[encoded data removed]",
      "text/plain": [
       "<Figure size 640x480 with 1 Axes>"
      ]
     },
     "metadata": {},
     "output_type": "display_data"
    }
   ],
   "source": [
    "#Visualizations boxplots\n",
    "boxplt, ex2 = plt.subplots()\n",
    "ex2.boxplot(cv.iloc[::,0])"
   ]
  },
  {
   "cell_type": "code",
   "execution_count": 13,
   "id": "9ada42a9-cdd2-4699-b569-e72da9f23808",
   "metadata": {
    "tags": []
   },
   "outputs": [],
   "source": [
    "#Correlation heatmap\n",
    "corr = cv.corr()"
   ]
  },
  {
   "cell_type": "code",
   "execution_count": 14,
   "id": "17f96d85-b4de-4100-bb58-ffec48e0a934",
   "metadata": {
    "tags": []
   },
   "outputs": [
    {
     "data": {
      "image/png": "[encoded data removed]",
      "text/plain": [
       "<Figure size 1600x600 with 2 Axes>"
      ]
     },
     "metadata": {},
     "output_type": "display_data"
    }
   ],
   "source": [
    "from sklearn import preprocessing\n",
    "ax = plt.subplots(figsize=(16,6))\n",
    "sns.heatmap(corr, cmap='seismic', linewidths=5, annot=True, fmt='.3f')\n",
    "plt.show()"
   ]
  },
  {
   "cell_type": "code",
   "execution_count": 15,
   "id": "d42bf966-1606-4821-bbaa-6f24f7d56e85",
   "metadata": {
    "tags": []
   },
   "outputs": [
    {
     "data": {
      "text/plain": [
       "array([[-0.23109413, -0.33333333,  0.41666667, ..., -0.53461297,\n",
       "         0.08181679, -0.54601855],\n",
       "       [ 0.60623492,  0.        , -0.72222222, ..., -0.63988949,\n",
       "         1.23689002, -0.56982572],\n",
       "       [ 0.06633146,  1.        , -0.08333333, ..., -0.36735607,\n",
       "        -0.12405657, -0.28159143],\n",
       "       ...,\n",
       "       [-0.20148833,  0.        , -0.13888889, ...,  0.22378478,\n",
       "         0.04097408,  0.20226104],\n",
       "       [ 2.62787611,  0.        , -0.38888889, ...,  0.66586433,\n",
       "         1.40134341,  0.73314055],\n",
       "       [ 0.74975865,  0.        , -0.69444444, ...,  0.52127068,\n",
       "         0.82295943,  0.59269989]])"
      ]
     },
     "execution_count": 15,
     "metadata": {},
     "output_type": "execute_result"
    }
   ],
   "source": [
    "#Data normalization\n",
    "robust = RobustScaler()\n",
    "sd = robust.fit_transform(cv)\n",
    "sd"
   ]
  },
  {
   "cell_type": "code",
   "execution_count": 16,
   "id": "8889083b-fbde-4f8f-9df7-bed7d453d514",
   "metadata": {
    "tags": []
   },
   "outputs": [],
   "source": [
    "cv_normalized=(cv-cv.mean())/cv.std()"
   ]
  },
  {
   "cell_type": "code",
   "execution_count": 17,
   "id": "48696892-5c63-4f60-8a5b-1887713c5990",
   "metadata": {
    "tags": []
   },
   "outputs": [
    {
     "data": {
      "text/html": [
       "<div>\n",
       "<style scoped>\n",
       "    .dataframe tbody tr th:only-of-type {\n",
       "        vertical-align: middle;\n",
       "    }\n",
       "\n",
       "    .dataframe tbody tr th {\n",
       "        vertical-align: top;\n",
       "    }\n",
       "\n",
       "    .dataframe thead th {\n",
       "        text-align: right;\n",
       "    }\n",
       "</style>\n",
       "<table border=\"1\" class=\"dataframe\">\n",
       "  <thead>\n",
       "    <tr style=\"text-align: right;\">\n",
       "      <th></th>\n",
       "      <th>Population</th>\n",
       "      <th>Children</th>\n",
       "      <th>Age</th>\n",
       "      <th>Income</th>\n",
       "      <th>Outage_sec_perweek</th>\n",
       "      <th>Email</th>\n",
       "      <th>Contacts</th>\n",
       "      <th>Yearly_equip_failure</th>\n",
       "      <th>Tenure</th>\n",
       "      <th>MonthlyCharge</th>\n",
       "      <th>Bandwidth_GB_Year</th>\n",
       "    </tr>\n",
       "  </thead>\n",
       "  <tbody>\n",
       "    <tr>\n",
       "      <th>0</th>\n",
       "      <td>-0.673371</td>\n",
       "      <td>-0.972289</td>\n",
       "      <td>0.720889</td>\n",
       "      <td>-0.398758</td>\n",
       "      <td>-0.679944</td>\n",
       "      <td>-0.666248</td>\n",
       "      <td>-1.005801</td>\n",
       "      <td>0.946611</td>\n",
       "      <td>-1.048694</td>\n",
       "      <td>-0.003942</td>\n",
       "      <td>-1.138430</td>\n",
       "    </tr>\n",
       "    <tr>\n",
       "      <th>1</th>\n",
       "      <td>0.047769</td>\n",
       "      <td>-0.506567</td>\n",
       "      <td>-1.259894</td>\n",
       "      <td>-0.641922</td>\n",
       "      <td>0.570303</td>\n",
       "      <td>-0.005288</td>\n",
       "      <td>-1.005801</td>\n",
       "      <td>0.946611</td>\n",
       "      <td>-1.261938</td>\n",
       "      <td>1.630244</td>\n",
       "      <td>-1.185817</td>\n",
       "    </tr>\n",
       "    <tr>\n",
       "      <th>2</th>\n",
       "      <td>-0.417217</td>\n",
       "      <td>0.890602</td>\n",
       "      <td>-0.148723</td>\n",
       "      <td>-1.070831</td>\n",
       "      <td>0.252334</td>\n",
       "      <td>-0.996729</td>\n",
       "      <td>-1.005801</td>\n",
       "      <td>0.946611</td>\n",
       "      <td>-0.709904</td>\n",
       "      <td>-0.295210</td>\n",
       "      <td>-0.612107</td>\n",
       "    </tr>\n",
       "    <tr>\n",
       "      <th>3</th>\n",
       "      <td>0.284523</td>\n",
       "      <td>-0.506567</td>\n",
       "      <td>-0.245347</td>\n",
       "      <td>-0.740488</td>\n",
       "      <td>1.650423</td>\n",
       "      <td>0.986153</td>\n",
       "      <td>1.017537</td>\n",
       "      <td>-0.625832</td>\n",
       "      <td>-0.659491</td>\n",
       "      <td>-1.226460</td>\n",
       "      <td>-0.561829</td>\n",
       "    </tr>\n",
       "    <tr>\n",
       "      <th>4</th>\n",
       "      <td>0.110543</td>\n",
       "      <td>-0.972289</td>\n",
       "      <td>1.445566</td>\n",
       "      <td>0.009477</td>\n",
       "      <td>-0.623125</td>\n",
       "      <td>1.316634</td>\n",
       "      <td>1.017537</td>\n",
       "      <td>0.946611</td>\n",
       "      <td>-1.242489</td>\n",
       "      <td>-0.528059</td>\n",
       "      <td>-1.428113</td>\n",
       "    </tr>\n",
       "    <tr>\n",
       "      <th>...</th>\n",
       "      <td>...</td>\n",
       "      <td>...</td>\n",
       "      <td>...</td>\n",
       "      <td>...</td>\n",
       "      <td>...</td>\n",
       "      <td>...</td>\n",
       "      <td>...</td>\n",
       "      <td>...</td>\n",
       "      <td>...</td>\n",
       "      <td>...</td>\n",
       "      <td>...</td>\n",
       "    </tr>\n",
       "    <tr>\n",
       "      <th>9995</th>\n",
       "      <td>-0.631660</td>\n",
       "      <td>0.424879</td>\n",
       "      <td>-1.453141</td>\n",
       "      <td>0.564428</td>\n",
       "      <td>-0.196878</td>\n",
       "      <td>-0.005288</td>\n",
       "      <td>1.017537</td>\n",
       "      <td>-0.625832</td>\n",
       "      <td>1.273337</td>\n",
       "      <td>-0.294469</td>\n",
       "      <td>1.427227</td>\n",
       "    </tr>\n",
       "    <tr>\n",
       "      <th>9996</th>\n",
       "      <td>4.670744</td>\n",
       "      <td>0.890602</td>\n",
       "      <td>-0.245347</td>\n",
       "      <td>-0.201333</td>\n",
       "      <td>-1.095860</td>\n",
       "      <td>0.986153</td>\n",
       "      <td>1.017537</td>\n",
       "      <td>-0.625832</td>\n",
       "      <td>1.002690</td>\n",
       "      <td>0.811685</td>\n",
       "      <td>1.054142</td>\n",
       "    </tr>\n",
       "    <tr>\n",
       "      <th>9997</th>\n",
       "      <td>-0.647873</td>\n",
       "      <td>-0.506567</td>\n",
       "      <td>-0.245347</td>\n",
       "      <td>0.219026</td>\n",
       "      <td>-1.146141</td>\n",
       "      <td>-0.666248</td>\n",
       "      <td>-1.005801</td>\n",
       "      <td>-0.625832</td>\n",
       "      <td>0.487489</td>\n",
       "      <td>-0.061726</td>\n",
       "      <td>0.350966</td>\n",
       "    </tr>\n",
       "    <tr>\n",
       "      <th>9998</th>\n",
       "      <td>1.788885</td>\n",
       "      <td>-0.506567</td>\n",
       "      <td>-0.680153</td>\n",
       "      <td>-0.820547</td>\n",
       "      <td>0.695581</td>\n",
       "      <td>0.655673</td>\n",
       "      <td>0.005868</td>\n",
       "      <td>-0.625832</td>\n",
       "      <td>1.382949</td>\n",
       "      <td>1.862911</td>\n",
       "      <td>1.407643</td>\n",
       "    </tr>\n",
       "    <tr>\n",
       "      <th>9999</th>\n",
       "      <td>0.171377</td>\n",
       "      <td>-0.506567</td>\n",
       "      <td>-1.211582</td>\n",
       "      <td>-1.091706</td>\n",
       "      <td>0.588999</td>\n",
       "      <td>1.647114</td>\n",
       "      <td>0.005868</td>\n",
       "      <td>-0.625832</td>\n",
       "      <td>1.090066</td>\n",
       "      <td>1.044619</td>\n",
       "      <td>1.128106</td>\n",
       "    </tr>\n",
       "  </tbody>\n",
       "</table>\n",
       "<p>10000 rows × 11 columns</p>\n",
       "</div>"
      ],
      "text/plain": [
       "      Population  Children       Age    Income  Outage_sec_perweek     Email  \\\n",
       "0      -0.673371 -0.972289  0.720889 -0.398758           -0.679944 -0.666248   \n",
       "1       0.047769 -0.506567 -1.259894 -0.641922            0.570303 -0.005288   \n",
       "2      -0.417217  0.890602 -0.148723 -1.070831            0.252334 -0.996729   \n",
       "3       0.284523 -0.506567 -0.245347 -0.740488            1.650423  0.986153   \n",
       "4       0.110543 -0.972289  1.445566  0.009477           -0.623125  1.316634   \n",
       "...          ...       ...       ...       ...                 ...       ...   \n",
       "9995   -0.631660  0.424879 -1.453141  0.564428           -0.196878 -0.005288   \n",
       "9996    4.670744  0.890602 -0.245347 -0.201333           -1.095860  0.986153   \n",
       "9997   -0.647873 -0.506567 -0.245347  0.219026           -1.146141 -0.666248   \n",
       "9998    1.788885 -0.506567 -0.680153 -0.820547            0.695581  0.655673   \n",
       "9999    0.171377 -0.506567 -1.211582 -1.091706            0.588999  1.647114   \n",
       "\n",
       "      Contacts  Yearly_equip_failure    Tenure  MonthlyCharge  \\\n",
       "0    -1.005801              0.946611 -1.048694      -0.003942   \n",
       "1    -1.005801              0.946611 -1.261938       1.630244   \n",
       "2    -1.005801              0.946611 -0.709904      -0.295210   \n",
       "3     1.017537             -0.625832 -0.659491      -1.226460   \n",
       "4     1.017537              0.946611 -1.242489      -0.528059   \n",
       "...        ...                   ...       ...            ...   \n",
       "9995  1.017537             -0.625832  1.273337      -0.294469   \n",
       "9996  1.017537             -0.625832  1.002690       0.811685   \n",
       "9997 -1.005801             -0.625832  0.487489      -0.061726   \n",
       "9998  0.005868             -0.625832  1.382949       1.862911   \n",
       "9999  0.005868             -0.625832  1.090066       1.044619   \n",
       "\n",
       "      Bandwidth_GB_Year  \n",
       "0             -1.138430  \n",
       "1             -1.185817  \n",
       "2             -0.612107  \n",
       "3             -0.561829  \n",
       "4             -1.428113  \n",
       "...                 ...  \n",
       "9995           1.427227  \n",
       "9996           1.054142  \n",
       "9997           0.350966  \n",
       "9998           1.407643  \n",
       "9999           1.128106  \n",
       "\n",
       "[10000 rows x 11 columns]"
      ]
     },
     "execution_count": 17,
     "metadata": {},
     "output_type": "execute_result"
    }
   ],
   "source": [
    "cv_normalized"
   ]
  },
  {
   "cell_type": "code",
   "execution_count": 18,
   "id": "4d86fd82-e2b1-48f7-a070-63b9d1c453b1",
   "metadata": {
    "tags": []
   },
   "outputs": [],
   "source": [
    "cv_normalized.to_csv('d212PCAnormalized.csv', index=False)"
   ]
  },
  {
   "cell_type": "code",
   "execution_count": 19,
   "id": "aa5cf073-c881-4c35-af8a-e31e25184d61",
   "metadata": {
    "tags": []
   },
   "outputs": [],
   "source": [
    "#Create PCA \n",
    "pca = PCA(n_components=sd.shape[1])\n",
    "pca.fit(cv_normalized)\n",
    "cv_pca = pd.DataFrame(pca.transform(cv_normalized),     \n",
    "     columns=['PC1','PC2','PC3','PC4','PC5','PC6','PC7','PC8','PC9', 'PC10', 'PC11'])"
   ]
  },
  {
   "cell_type": "code",
   "execution_count": 20,
   "id": "7efc4222-eadd-4223-ac69-27a7633f66d8",
   "metadata": {
    "tags": []
   },
   "outputs": [
    {
     "data": {
      "text/html": [
       "<div>\n",
       "<style scoped>\n",
       "    .dataframe tbody tr th:only-of-type {\n",
       "        vertical-align: middle;\n",
       "    }\n",
       "\n",
       "    .dataframe tbody tr th {\n",
       "        vertical-align: top;\n",
       "    }\n",
       "\n",
       "    .dataframe thead th {\n",
       "        text-align: right;\n",
       "    }\n",
       "</style>\n",
       "<table border=\"1\" class=\"dataframe\">\n",
       "  <thead>\n",
       "    <tr style=\"text-align: right;\">\n",
       "      <th></th>\n",
       "      <th>PC1</th>\n",
       "      <th>PC2</th>\n",
       "      <th>PC3</th>\n",
       "      <th>PC4</th>\n",
       "      <th>PC5</th>\n",
       "      <th>PC6</th>\n",
       "      <th>PC7</th>\n",
       "      <th>PC8</th>\n",
       "      <th>PC9</th>\n",
       "      <th>PC10</th>\n",
       "      <th>PC11</th>\n",
       "    </tr>\n",
       "  </thead>\n",
       "  <tbody>\n",
       "    <tr>\n",
       "      <th>0</th>\n",
       "      <td>-1.532562</td>\n",
       "      <td>0.119506</td>\n",
       "      <td>-1.562038</td>\n",
       "      <td>0.136199</td>\n",
       "      <td>0.414976</td>\n",
       "      <td>-1.399508</td>\n",
       "      <td>0.191097</td>\n",
       "      <td>-0.130907</td>\n",
       "      <td>-0.527600</td>\n",
       "      <td>0.045654</td>\n",
       "      <td>-0.026621</td>\n",
       "    </tr>\n",
       "    <tr>\n",
       "      <th>1</th>\n",
       "      <td>-1.658936</td>\n",
       "      <td>0.130533</td>\n",
       "      <td>0.638269</td>\n",
       "      <td>-1.375589</td>\n",
       "      <td>0.723669</td>\n",
       "      <td>-1.271836</td>\n",
       "      <td>0.575567</td>\n",
       "      <td>0.474008</td>\n",
       "      <td>-0.826628</td>\n",
       "      <td>1.302639</td>\n",
       "      <td>-0.038358</td>\n",
       "    </tr>\n",
       "    <tr>\n",
       "      <th>2</th>\n",
       "      <td>-0.900477</td>\n",
       "      <td>1.191343</td>\n",
       "      <td>-0.193072</td>\n",
       "      <td>-0.495735</td>\n",
       "      <td>1.308733</td>\n",
       "      <td>-1.158641</td>\n",
       "      <td>-0.434048</td>\n",
       "      <td>-0.004835</td>\n",
       "      <td>0.466425</td>\n",
       "      <td>-0.297634</td>\n",
       "      <td>0.060822</td>\n",
       "    </tr>\n",
       "    <tr>\n",
       "      <th>3</th>\n",
       "      <td>-0.942266</td>\n",
       "      <td>-1.138033</td>\n",
       "      <td>1.264555</td>\n",
       "      <td>0.039042</td>\n",
       "      <td>0.394383</td>\n",
       "      <td>0.897966</td>\n",
       "      <td>-1.516612</td>\n",
       "      <td>-0.434373</td>\n",
       "      <td>-0.730130</td>\n",
       "      <td>-0.734869</td>\n",
       "      <td>0.130003</td>\n",
       "    </tr>\n",
       "    <tr>\n",
       "      <th>4</th>\n",
       "      <td>-1.929652</td>\n",
       "      <td>-1.434506</td>\n",
       "      <td>-0.984356</td>\n",
       "      <td>1.102888</td>\n",
       "      <td>0.459273</td>\n",
       "      <td>0.611668</td>\n",
       "      <td>0.333196</td>\n",
       "      <td>-1.448429</td>\n",
       "      <td>-0.347691</td>\n",
       "      <td>0.279126</td>\n",
       "      <td>-0.056538</td>\n",
       "    </tr>\n",
       "    <tr>\n",
       "      <th>...</th>\n",
       "      <td>...</td>\n",
       "      <td>...</td>\n",
       "      <td>...</td>\n",
       "      <td>...</td>\n",
       "      <td>...</td>\n",
       "      <td>...</td>\n",
       "      <td>...</td>\n",
       "      <td>...</td>\n",
       "      <td>...</td>\n",
       "      <td>...</td>\n",
       "      <td>...</td>\n",
       "    </tr>\n",
       "    <tr>\n",
       "      <th>9995</th>\n",
       "      <td>1.897307</td>\n",
       "      <td>0.789505</td>\n",
       "      <td>0.484868</td>\n",
       "      <td>-0.372840</td>\n",
       "      <td>-1.157458</td>\n",
       "      <td>1.016519</td>\n",
       "      <td>-0.920497</td>\n",
       "      <td>-0.197202</td>\n",
       "      <td>0.091110</td>\n",
       "      <td>0.591022</td>\n",
       "      <td>0.081233</td>\n",
       "    </tr>\n",
       "    <tr>\n",
       "      <th>9996</th>\n",
       "      <td>1.434784</td>\n",
       "      <td>-1.508229</td>\n",
       "      <td>2.101513</td>\n",
       "      <td>2.366664</td>\n",
       "      <td>0.867393</td>\n",
       "      <td>1.420151</td>\n",
       "      <td>1.171609</td>\n",
       "      <td>2.015253</td>\n",
       "      <td>1.829817</td>\n",
       "      <td>1.784038</td>\n",
       "      <td>-0.026352</td>\n",
       "    </tr>\n",
       "    <tr>\n",
       "      <th>9997</th>\n",
       "      <td>0.578784</td>\n",
       "      <td>0.799265</td>\n",
       "      <td>-0.693525</td>\n",
       "      <td>0.471046</td>\n",
       "      <td>-1.131125</td>\n",
       "      <td>-1.009937</td>\n",
       "      <td>-0.023900</td>\n",
       "      <td>0.482007</td>\n",
       "      <td>-0.303899</td>\n",
       "      <td>0.032668</td>\n",
       "      <td>-0.086945</td>\n",
       "    </tr>\n",
       "    <tr>\n",
       "      <th>9998</th>\n",
       "      <td>2.002681</td>\n",
       "      <td>-1.589774</td>\n",
       "      <td>1.859988</td>\n",
       "      <td>-0.311384</td>\n",
       "      <td>0.215998</td>\n",
       "      <td>-0.461094</td>\n",
       "      <td>0.605249</td>\n",
       "      <td>1.201014</td>\n",
       "      <td>-0.039063</td>\n",
       "      <td>1.045715</td>\n",
       "      <td>-0.069396</td>\n",
       "    </tr>\n",
       "    <tr>\n",
       "      <th>9999</th>\n",
       "      <td>1.551690</td>\n",
       "      <td>-0.898799</td>\n",
       "      <td>2.112066</td>\n",
       "      <td>-0.290094</td>\n",
       "      <td>-0.341142</td>\n",
       "      <td>-0.632831</td>\n",
       "      <td>-0.120576</td>\n",
       "      <td>-0.414271</td>\n",
       "      <td>-0.790183</td>\n",
       "      <td>0.927540</td>\n",
       "      <td>-0.033819</td>\n",
       "    </tr>\n",
       "  </tbody>\n",
       "</table>\n",
       "<p>10000 rows × 11 columns</p>\n",
       "</div>"
      ],
      "text/plain": [
       "           PC1       PC2       PC3       PC4       PC5       PC6       PC7  \\\n",
       "0    -1.532562  0.119506 -1.562038  0.136199  0.414976 -1.399508  0.191097   \n",
       "1    -1.658936  0.130533  0.638269 -1.375589  0.723669 -1.271836  0.575567   \n",
       "2    -0.900477  1.191343 -0.193072 -0.495735  1.308733 -1.158641 -0.434048   \n",
       "3    -0.942266 -1.138033  1.264555  0.039042  0.394383  0.897966 -1.516612   \n",
       "4    -1.929652 -1.434506 -0.984356  1.102888  0.459273  0.611668  0.333196   \n",
       "...        ...       ...       ...       ...       ...       ...       ...   \n",
       "9995  1.897307  0.789505  0.484868 -0.372840 -1.157458  1.016519 -0.920497   \n",
       "9996  1.434784 -1.508229  2.101513  2.366664  0.867393  1.420151  1.171609   \n",
       "9997  0.578784  0.799265 -0.693525  0.471046 -1.131125 -1.009937 -0.023900   \n",
       "9998  2.002681 -1.589774  1.859988 -0.311384  0.215998 -0.461094  0.605249   \n",
       "9999  1.551690 -0.898799  2.112066 -0.290094 -0.341142 -0.632831 -0.120576   \n",
       "\n",
       "           PC8       PC9      PC10      PC11  \n",
       "0    -0.130907 -0.527600  0.045654 -0.026621  \n",
       "1     0.474008 -0.826628  1.302639 -0.038358  \n",
       "2    -0.004835  0.466425 -0.297634  0.060822  \n",
       "3    -0.434373 -0.730130 -0.734869  0.130003  \n",
       "4    -1.448429 -0.347691  0.279126 -0.056538  \n",
       "...        ...       ...       ...       ...  \n",
       "9995 -0.197202  0.091110  0.591022  0.081233  \n",
       "9996  2.015253  1.829817  1.784038 -0.026352  \n",
       "9997  0.482007 -0.303899  0.032668 -0.086945  \n",
       "9998  1.201014 -0.039063  1.045715 -0.069396  \n",
       "9999 -0.414271 -0.790183  0.927540 -0.033819  \n",
       "\n",
       "[10000 rows x 11 columns]"
      ]
     },
     "execution_count": 20,
     "metadata": {},
     "output_type": "execute_result"
    }
   ],
   "source": [
    "cv_pca"
   ]
  },
  {
   "cell_type": "code",
   "execution_count": 21,
   "id": "2198d4c0-dac6-4460-8bd9-437e4f48f90f",
   "metadata": {
    "tags": []
   },
   "outputs": [
    {
     "data": {
      "text/plain": [
       "array([0.18128814, 0.09612172, 0.09358777, 0.09260386, 0.09120816,\n",
       "       0.09071975, 0.09012985, 0.08898161, 0.08764456, 0.08721758,\n",
       "       0.000497  ])"
      ]
     },
     "execution_count": 21,
     "metadata": {},
     "output_type": "execute_result"
    }
   ],
   "source": [
    "exp_var = pca.explained_variance_ratio_\n",
    "exp_var"
   ]
  },
  {
   "cell_type": "code",
   "execution_count": 22,
   "id": "0725b0b0-f4ba-4611-9b52-900342217f98",
   "metadata": {
    "tags": []
   },
   "outputs": [
    {
     "data": {
      "text/plain": [
       "array([ 1,  2,  3,  4,  5,  6,  7,  8,  9, 10, 11])"
      ]
     },
     "execution_count": 22,
     "metadata": {},
     "output_type": "execute_result"
    }
   ],
   "source": [
    "pcomp = np.arange(pca.n_components_) + 1\n",
    "pcomp"
   ]
  },
  {
   "cell_type": "code",
   "execution_count": 23,
   "id": "4bd4808b-1c9f-4678-afc9-c263799dd647",
   "metadata": {
    "tags": []
   },
   "outputs": [
    {
     "data": {
      "text/plain": [
       "array([[-0.78404193, -0.31497112,  0.64957662, ...,  0.31458381,\n",
       "        -0.50936902, -0.01326749],\n",
       "       [ 0.05687948, -0.57655807, -0.18105194, ..., -0.81899375,\n",
       "        -0.47091607, -0.01896519],\n",
       "       [-0.49209513, -0.83661749,  0.67020178, ..., -0.08030681,\n",
       "        -0.46427592,  0.03034416],\n",
       "       ...,\n",
       "       [-0.76934815,  0.22833895,  0.75542481, ..., -0.17267282,\n",
       "        -0.4872952 , -0.0433595 ],\n",
       "       [ 2.08969908, -0.72201641, -0.54733704, ..., -0.44077912,\n",
       "        -0.01497256, -0.03452136],\n",
       "       [ 0.23129653, -0.99902497, -1.23374449, ..., -0.72363486,\n",
       "         0.00462694, -0.01682922]])"
      ]
     },
     "execution_count": 23,
     "metadata": {},
     "output_type": "execute_result"
    }
   ],
   "source": [
    "pca_model = pca.fit_transform(sd)\n",
    "pca_model"
   ]
  },
  {
   "cell_type": "code",
   "execution_count": 24,
   "id": "c3406d53-8794-4a0a-8193-e608312d23bf",
   "metadata": {
    "tags": []
   },
   "outputs": [
    {
     "data": {
      "image/png": "[encoded data removed]",
      "text/plain": [
       "<Figure size 640x480 with 1 Axes>"
      ]
     },
     "metadata": {},
     "output_type": "display_data"
    }
   ],
   "source": [
    "#Scree plot\n",
    "plt.plot(pca.explained_variance_ratio_)\n",
    "plt.xlabel('number of components')\n",
    "plt.ylabel('explained variance')\n",
    "plt.show()"
   ]
  },
  {
   "cell_type": "code",
   "execution_count": 25,
   "id": "bb3eb31f-8808-4e9b-baf5-b8b3e5e6872a",
   "metadata": {},
   "outputs": [],
   "source": [
    "#Eigenvalues\n",
    "cov_matrix = np.dot(cv_normalized.T, cv_normalized) / cv.shape[0]\n",
    "eigenvalues = [np.dot(eigenvector.T, np.dot(cov_matrix, eigenvector)) for\n",
    "eigenvector in pca.components_]"
   ]
  },
  {
   "cell_type": "code",
   "execution_count": 26,
   "id": "2dfb51ea-d3ea-45fa-99d2-ac92f5b6f49f",
   "metadata": {
    "tags": []
   },
   "outputs": [
    {
     "data": {
      "image/png": "[encoded data removed]",
      "text/plain": [
       "<Figure size 640x480 with 1 Axes>"
      ]
     },
     "metadata": {},
     "output_type": "display_data"
    }
   ],
   "source": [
    "plt.plot(eigenvalues)\n",
    "plt.xlabel('number of components')\n",
    "plt.ylabel('eigenvalue')\n",
    "plt.show() "
   ]
  },
  {
   "cell_type": "code",
   "execution_count": 27,
   "id": "5c869d3d-e33b-4a13-a63a-962e32ed06f8",
   "metadata": {
    "tags": []
   },
   "outputs": [
    {
     "data": {
      "text/html": [
       "<div>\n",
       "<style scoped>\n",
       "    .dataframe tbody tr th:only-of-type {\n",
       "        vertical-align: middle;\n",
       "    }\n",
       "\n",
       "    .dataframe tbody tr th {\n",
       "        vertical-align: top;\n",
       "    }\n",
       "\n",
       "    .dataframe thead th {\n",
       "        text-align: right;\n",
       "    }\n",
       "</style>\n",
       "<table border=\"1\" class=\"dataframe\">\n",
       "  <thead>\n",
       "    <tr style=\"text-align: right;\">\n",
       "      <th></th>\n",
       "      <th>PC1</th>\n",
       "      <th>PC2</th>\n",
       "      <th>PC3</th>\n",
       "      <th>PC4</th>\n",
       "      <th>PC5</th>\n",
       "      <th>PC6</th>\n",
       "      <th>PC7</th>\n",
       "      <th>PC8</th>\n",
       "      <th>PC9</th>\n",
       "      <th>PC10</th>\n",
       "      <th>PC11</th>\n",
       "    </tr>\n",
       "  </thead>\n",
       "  <tbody>\n",
       "    <tr>\n",
       "      <th>Population</th>\n",
       "      <td>0.999619</td>\n",
       "      <td>0.014462</td>\n",
       "      <td>0.020354</td>\n",
       "      <td>0.002711</td>\n",
       "      <td>0.005773</td>\n",
       "      <td>0.005870</td>\n",
       "      <td>0.003060</td>\n",
       "      <td>0.002263</td>\n",
       "      <td>-0.006851</td>\n",
       "      <td>-0.001559</td>\n",
       "      <td>-0.000148</td>\n",
       "    </tr>\n",
       "    <tr>\n",
       "      <th>Children</th>\n",
       "      <td>-0.005997</td>\n",
       "      <td>0.033446</td>\n",
       "      <td>-0.038371</td>\n",
       "      <td>0.002838</td>\n",
       "      <td>0.965003</td>\n",
       "      <td>0.100047</td>\n",
       "      <td>0.223682</td>\n",
       "      <td>-0.021171</td>\n",
       "      <td>0.069179</td>\n",
       "      <td>0.025140</td>\n",
       "      <td>-0.014988</td>\n",
       "    </tr>\n",
       "    <tr>\n",
       "      <th>Age</th>\n",
       "      <td>0.006975</td>\n",
       "      <td>-0.005950</td>\n",
       "      <td>0.004869</td>\n",
       "      <td>-0.011333</td>\n",
       "      <td>-0.069069</td>\n",
       "      <td>0.015289</td>\n",
       "      <td>-0.003346</td>\n",
       "      <td>0.049065</td>\n",
       "      <td>0.994894</td>\n",
       "      <td>-0.046379</td>\n",
       "      <td>0.019363</td>\n",
       "    </tr>\n",
       "    <tr>\n",
       "      <th>Income</th>\n",
       "      <td>-0.012884</td>\n",
       "      <td>0.996469</td>\n",
       "      <td>-0.065383</td>\n",
       "      <td>0.032722</td>\n",
       "      <td>-0.037618</td>\n",
       "      <td>-0.005573</td>\n",
       "      <td>0.001861</td>\n",
       "      <td>-0.007889</td>\n",
       "      <td>0.004526</td>\n",
       "      <td>-0.002075</td>\n",
       "      <td>-0.000562</td>\n",
       "    </tr>\n",
       "    <tr>\n",
       "      <th>Outage_sec_perweek</th>\n",
       "      <td>0.006195</td>\n",
       "      <td>-0.052494</td>\n",
       "      <td>-0.332928</td>\n",
       "      <td>0.924262</td>\n",
       "      <td>0.016371</td>\n",
       "      <td>-0.165826</td>\n",
       "      <td>-0.060822</td>\n",
       "      <td>-0.009899</td>\n",
       "      <td>0.014935</td>\n",
       "      <td>-0.017817</td>\n",
       "      <td>0.000185</td>\n",
       "    </tr>\n",
       "    <tr>\n",
       "      <th>Email</th>\n",
       "      <td>0.020485</td>\n",
       "      <td>-0.050098</td>\n",
       "      <td>-0.934673</td>\n",
       "      <td>-0.331682</td>\n",
       "      <td>-0.021640</td>\n",
       "      <td>0.068863</td>\n",
       "      <td>-0.079602</td>\n",
       "      <td>0.043174</td>\n",
       "      <td>-0.004757</td>\n",
       "      <td>-0.003188</td>\n",
       "      <td>0.000165</td>\n",
       "    </tr>\n",
       "    <tr>\n",
       "      <th>Contacts</th>\n",
       "      <td>0.002197</td>\n",
       "      <td>-0.000265</td>\n",
       "      <td>-0.008170</td>\n",
       "      <td>0.015600</td>\n",
       "      <td>-0.028127</td>\n",
       "      <td>0.000968</td>\n",
       "      <td>-0.007757</td>\n",
       "      <td>-0.009608</td>\n",
       "      <td>0.045239</td>\n",
       "      <td>0.998345</td>\n",
       "      <td>-0.000948</td>\n",
       "    </tr>\n",
       "    <tr>\n",
       "      <th>Yearly_equip_failure</th>\n",
       "      <td>-0.003714</td>\n",
       "      <td>0.011694</td>\n",
       "      <td>0.041953</td>\n",
       "      <td>0.023864</td>\n",
       "      <td>0.039854</td>\n",
       "      <td>0.007205</td>\n",
       "      <td>-0.063152</td>\n",
       "      <td>0.994805</td>\n",
       "      <td>-0.045881</td>\n",
       "      <td>0.012259</td>\n",
       "      <td>-0.000074</td>\n",
       "    </tr>\n",
       "    <tr>\n",
       "      <th>Tenure</th>\n",
       "      <td>-0.002571</td>\n",
       "      <td>0.006626</td>\n",
       "      <td>0.052353</td>\n",
       "      <td>0.060510</td>\n",
       "      <td>0.068125</td>\n",
       "      <td>0.437222</td>\n",
       "      <td>-0.537408</td>\n",
       "      <td>-0.043178</td>\n",
       "      <td>0.012454</td>\n",
       "      <td>-0.004846</td>\n",
       "      <td>-0.711964</td>\n",
       "    </tr>\n",
       "    <tr>\n",
       "      <th>MonthlyCharge</th>\n",
       "      <td>-0.004466</td>\n",
       "      <td>-0.013344</td>\n",
       "      <td>-0.047585</td>\n",
       "      <td>0.158982</td>\n",
       "      <td>-0.219397</td>\n",
       "      <td>0.732413</td>\n",
       "      <td>0.620056</td>\n",
       "      <td>0.040118</td>\n",
       "      <td>-0.023921</td>\n",
       "      <td>-0.003501</td>\n",
       "      <td>-0.032170</td>\n",
       "    </tr>\n",
       "    <tr>\n",
       "      <th>Bandwidth_GB_Year</th>\n",
       "      <td>-0.002941</td>\n",
       "      <td>0.007825</td>\n",
       "      <td>0.050282</td>\n",
       "      <td>0.069006</td>\n",
       "      <td>0.081595</td>\n",
       "      <td>0.479381</td>\n",
       "      <td>-0.512427</td>\n",
       "      <td>-0.043737</td>\n",
       "      <td>-0.014394</td>\n",
       "      <td>-0.001909</td>\n",
       "      <td>0.701050</td>\n",
       "    </tr>\n",
       "  </tbody>\n",
       "</table>\n",
       "</div>"
      ],
      "text/plain": [
       "                           PC1       PC2       PC3       PC4       PC5  \\\n",
       "Population            0.999619  0.014462  0.020354  0.002711  0.005773   \n",
       "Children             -0.005997  0.033446 -0.038371  0.002838  0.965003   \n",
       "Age                   0.006975 -0.005950  0.004869 -0.011333 -0.069069   \n",
       "Income               -0.012884  0.996469 -0.065383  0.032722 -0.037618   \n",
       "Outage_sec_perweek    0.006195 -0.052494 -0.332928  0.924262  0.016371   \n",
       "Email                 0.020485 -0.050098 -0.934673 -0.331682 -0.021640   \n",
       "Contacts              0.002197 -0.000265 -0.008170  0.015600 -0.028127   \n",
       "Yearly_equip_failure -0.003714  0.011694  0.041953  0.023864  0.039854   \n",
       "Tenure               -0.002571  0.006626  0.052353  0.060510  0.068125   \n",
       "MonthlyCharge        -0.004466 -0.013344 -0.047585  0.158982 -0.219397   \n",
       "Bandwidth_GB_Year    -0.002941  0.007825  0.050282  0.069006  0.081595   \n",
       "\n",
       "                           PC6       PC7       PC8       PC9      PC10  \\\n",
       "Population            0.005870  0.003060  0.002263 -0.006851 -0.001559   \n",
       "Children              0.100047  0.223682 -0.021171  0.069179  0.025140   \n",
       "Age                   0.015289 -0.003346  0.049065  0.994894 -0.046379   \n",
       "Income               -0.005573  0.001861 -0.007889  0.004526 -0.002075   \n",
       "Outage_sec_perweek   -0.165826 -0.060822 -0.009899  0.014935 -0.017817   \n",
       "Email                 0.068863 -0.079602  0.043174 -0.004757 -0.003188   \n",
       "Contacts              0.000968 -0.007757 -0.009608  0.045239  0.998345   \n",
       "Yearly_equip_failure  0.007205 -0.063152  0.994805 -0.045881  0.012259   \n",
       "Tenure                0.437222 -0.537408 -0.043178  0.012454 -0.004846   \n",
       "MonthlyCharge         0.732413  0.620056  0.040118 -0.023921 -0.003501   \n",
       "Bandwidth_GB_Year     0.479381 -0.512427 -0.043737 -0.014394 -0.001909   \n",
       "\n",
       "                          PC11  \n",
       "Population           -0.000148  \n",
       "Children             -0.014988  \n",
       "Age                   0.019363  \n",
       "Income               -0.000562  \n",
       "Outage_sec_perweek    0.000185  \n",
       "Email                 0.000165  \n",
       "Contacts             -0.000948  \n",
       "Yearly_equip_failure -0.000074  \n",
       "Tenure               -0.711964  \n",
       "MonthlyCharge        -0.032170  \n",
       "Bandwidth_GB_Year     0.701050  "
      ]
     },
     "execution_count": 27,
     "metadata": {},
     "output_type": "execute_result"
    }
   ],
   "source": [
    "#Loadings\n",
    "loadings = pd.DataFrame(pca.components_.T,\n",
    "     columns=['PC1','PC2','PC3','PC4','PC5','PC6','PC7','PC8','PC9', 'PC10', 'PC11'],\n",
    "     index=cv.columns)\n",
    "loadings"
   ]
  },
  {
   "cell_type": "code",
   "execution_count": 28,
   "id": "576dec9f-1e71-4131-a617-45d654a95b73",
   "metadata": {
    "tags": []
   },
   "outputs": [],
   "source": [
    "loadings.to_csv('d212PCAloadings.csv', index=False)"
   ]
  },
  {
   "cell_type": "code",
   "execution_count": 29,
   "id": "5afc7c35-b751-46e3-adc5-b787b79f6908",
   "metadata": {
    "tags": []
   },
   "outputs": [
    {
     "name": "stdout",
     "output_type": "stream",
     "text": [
      "For PC1, the contribution is 23.821%\n",
      "For PC2, the contribution is 12.148%\n",
      "For PC3, the contribution is 10.128%\n",
      "For PC4, the contribution is 10.04%\n",
      "For PC5, the contribution is 9.095%\n",
      "For PC6, the contribution is 9.006%\n",
      "For PC7, the contribution is 8.48%\n",
      "For PC8, the contribution is 7.13%\n",
      "For PC9, the contribution is 5.823%\n",
      "For PC10, the contribution is 4.305%\n",
      "For PC11, the contribution is 0.024%\n"
     ]
    }
   ],
   "source": [
    "pc_contributions = list(pca.explained_variance_ratio_)\n",
    "pc_names = list(loadings.columns)\n",
    "for i in range(len(pc_names)):\n",
    "    print(f\"For {pc_names[i]}, the contribution is {round(pc_contributions[i] * 100, 3)}%\")"
   ]
  },
  {
   "cell_type": "code",
   "execution_count": null,
   "id": "a863a3aa-7723-4dda-acd6-e255826c3fc7",
   "metadata": {},
   "outputs": [],
   "source": []
  }
 ],
 "metadata": {
  "kernelspec": {
   "display_name": "Python 3 (ipykernel)",
   "language": "python",
   "name": "python3"
  },
  "language_info": {
   "codemirror_mode": {
    "name": "ipython",
    "version": 3
   },
   "file_extension": ".py",
   "mimetype": "text/x-python",
   "name": "python",
   "nbconvert_exporter": "python",
   "pygments_lexer": "ipython3",
   "version": "3.11.4"
  }
 },
 "nbformat": 4,
 "nbformat_minor": 5
}
